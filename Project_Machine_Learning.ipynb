{
  "cells": [
    {
      "cell_type": "markdown",
      "source": [
        "#                 Machine Learning Freelance Platform Projects"
      ],
      "metadata": {
        "id": "U_u73eCUww2l"
      }
    },
    {
      "cell_type": "code",
      "source": [
        "# importing all neccessary librearies\n",
        "import numpy as np \n",
        "import pandas as pd\n",
        "import matplotlib.pyplot as plt\n",
        "import seaborn as sns\n",
        "%matplotlib inline\n",
        "import warnings \n",
        "warnings.filterwarnings(\"ignore\")"
      ],
      "metadata": {
        "id": "rzdnw_dl95Nv"
      },
      "execution_count": 1,
      "outputs": []
    },
    {
      "cell_type": "code",
      "source": [
        "# Reading of the dataset \n",
        "df=pd.read_csv(\"Freelance_Platform_Projects.csv\")\n",
        "df.head()"
      ],
      "metadata": {
        "colab": {
          "base_uri": "https://localhost:8080/",
          "height": 600
        },
        "id": "L0HH2ovAB52a",
        "outputId": "aec7f876-e460-4609-a924-176874738725"
      },
      "execution_count": 2,
      "outputs": [
        {
          "output_type": "execute_result",
          "data": {
            "text/plain": [
              "                                            Title  \\\n",
              "0  i need an interactive form building n my site    \n",
              "1                  3D model of BIG MINING MACHINE   \n",
              "2                            Sales Email Template   \n",
              "3           Need Writer to Write a Review Article   \n",
              "4                   I need a 3d work of my house    \n",
              "\n",
              "                 Category Name         Experience    Sub Category Name  \\\n",
              "0     Technology & Programming          Entry ($)  Website Development   \n",
              "1                       Design       Expert ($$$)            3D Design   \n",
              "2  Marketing, Branding & Sales       Expert ($$$)        Sales & Calls   \n",
              "3        Writing & Translation          Entry ($)      Content Writing   \n",
              "4                       Design  Intermediate ($$)            3D Design   \n",
              "\n",
              "  Currency  Budget Location Freelancer Preferred From         Type  \\\n",
              "0      GBP    20.0   remote                       ALL  fixed_price   \n",
              "1      EUR  2007.0   remote                       ALL  fixed_price   \n",
              "2      GBP    25.0   remote                       ALL       hourly   \n",
              "3      USD    30.0   remote                       ALL  fixed_price   \n",
              "4      GBP    30.0   remote                       ALL  fixed_price   \n",
              "\n",
              "           Date Posted                                        Description  \\\n",
              "0  2023-01-30 16:04:50  i want to cllect leads/data on my site. i want...   \n",
              "1  2023-01-30 16:04:50  Hi everyone,\\ntoday im looking for \"SKILLED\" 3...   \n",
              "2  2023-01-30 15:55:38  Looking for a template that can be used when w...   \n",
              "3  2023-01-30 15:55:38  I need a writer who can able to write a review...   \n",
              "4  2023-01-30 15:41:40  I require 3d work of my house. 3d plan already...   \n",
              "\n",
              "  Duration Client Registration Date Client City  Client Country  \\\n",
              "0      NaN               2016-05-17   Tadcaster  United Kingdom   \n",
              "1      NaN               2019-06-05     Ostrava  Czech Republic   \n",
              "2      NaN               2022-12-05   Ardrossan  United Kingdom   \n",
              "3      NaN               2014-10-08     Kolkata           India   \n",
              "4      NaN               2022-01-02  Gloucester  United Kingdom   \n",
              "\n",
              "  Client Currency                    Client Job Title  \n",
              "0             GBP           Paid Social Media Manager  \n",
              "1             USD           indie game and VR company  \n",
              "2             GBP                                 NaN  \n",
              "3             USD  Blogging | Digital Marketing | SEO  \n",
              "4             GBP                                 NaN  "
            ],
            "text/html": [
              "\n",
              "  <div id=\"df-8fb02ae5-c984-434e-b9c7-03af1f718420\">\n",
              "    <div class=\"colab-df-container\">\n",
              "      <div>\n",
              "<style scoped>\n",
              "    .dataframe tbody tr th:only-of-type {\n",
              "        vertical-align: middle;\n",
              "    }\n",
              "\n",
              "    .dataframe tbody tr th {\n",
              "        vertical-align: top;\n",
              "    }\n",
              "\n",
              "    .dataframe thead th {\n",
              "        text-align: right;\n",
              "    }\n",
              "</style>\n",
              "<table border=\"1\" class=\"dataframe\">\n",
              "  <thead>\n",
              "    <tr style=\"text-align: right;\">\n",
              "      <th></th>\n",
              "      <th>Title</th>\n",
              "      <th>Category Name</th>\n",
              "      <th>Experience</th>\n",
              "      <th>Sub Category Name</th>\n",
              "      <th>Currency</th>\n",
              "      <th>Budget</th>\n",
              "      <th>Location</th>\n",
              "      <th>Freelancer Preferred From</th>\n",
              "      <th>Type</th>\n",
              "      <th>Date Posted</th>\n",
              "      <th>Description</th>\n",
              "      <th>Duration</th>\n",
              "      <th>Client Registration Date</th>\n",
              "      <th>Client City</th>\n",
              "      <th>Client Country</th>\n",
              "      <th>Client Currency</th>\n",
              "      <th>Client Job Title</th>\n",
              "    </tr>\n",
              "  </thead>\n",
              "  <tbody>\n",
              "    <tr>\n",
              "      <th>0</th>\n",
              "      <td>i need an interactive form building n my site</td>\n",
              "      <td>Technology &amp; Programming</td>\n",
              "      <td>Entry ($)</td>\n",
              "      <td>Website Development</td>\n",
              "      <td>GBP</td>\n",
              "      <td>20.0</td>\n",
              "      <td>remote</td>\n",
              "      <td>ALL</td>\n",
              "      <td>fixed_price</td>\n",
              "      <td>2023-01-30 16:04:50</td>\n",
              "      <td>i want to cllect leads/data on my site. i want...</td>\n",
              "      <td>NaN</td>\n",
              "      <td>2016-05-17</td>\n",
              "      <td>Tadcaster</td>\n",
              "      <td>United Kingdom</td>\n",
              "      <td>GBP</td>\n",
              "      <td>Paid Social Media Manager</td>\n",
              "    </tr>\n",
              "    <tr>\n",
              "      <th>1</th>\n",
              "      <td>3D model of BIG MINING MACHINE</td>\n",
              "      <td>Design</td>\n",
              "      <td>Expert ($$$)</td>\n",
              "      <td>3D Design</td>\n",
              "      <td>EUR</td>\n",
              "      <td>2007.0</td>\n",
              "      <td>remote</td>\n",
              "      <td>ALL</td>\n",
              "      <td>fixed_price</td>\n",
              "      <td>2023-01-30 16:04:50</td>\n",
              "      <td>Hi everyone,\\ntoday im looking for \"SKILLED\" 3...</td>\n",
              "      <td>NaN</td>\n",
              "      <td>2019-06-05</td>\n",
              "      <td>Ostrava</td>\n",
              "      <td>Czech Republic</td>\n",
              "      <td>USD</td>\n",
              "      <td>indie game and VR company</td>\n",
              "    </tr>\n",
              "    <tr>\n",
              "      <th>2</th>\n",
              "      <td>Sales Email Template</td>\n",
              "      <td>Marketing, Branding &amp; Sales</td>\n",
              "      <td>Expert ($$$)</td>\n",
              "      <td>Sales &amp; Calls</td>\n",
              "      <td>GBP</td>\n",
              "      <td>25.0</td>\n",
              "      <td>remote</td>\n",
              "      <td>ALL</td>\n",
              "      <td>hourly</td>\n",
              "      <td>2023-01-30 15:55:38</td>\n",
              "      <td>Looking for a template that can be used when w...</td>\n",
              "      <td>NaN</td>\n",
              "      <td>2022-12-05</td>\n",
              "      <td>Ardrossan</td>\n",
              "      <td>United Kingdom</td>\n",
              "      <td>GBP</td>\n",
              "      <td>NaN</td>\n",
              "    </tr>\n",
              "    <tr>\n",
              "      <th>3</th>\n",
              "      <td>Need Writer to Write a Review Article</td>\n",
              "      <td>Writing &amp; Translation</td>\n",
              "      <td>Entry ($)</td>\n",
              "      <td>Content Writing</td>\n",
              "      <td>USD</td>\n",
              "      <td>30.0</td>\n",
              "      <td>remote</td>\n",
              "      <td>ALL</td>\n",
              "      <td>fixed_price</td>\n",
              "      <td>2023-01-30 15:55:38</td>\n",
              "      <td>I need a writer who can able to write a review...</td>\n",
              "      <td>NaN</td>\n",
              "      <td>2014-10-08</td>\n",
              "      <td>Kolkata</td>\n",
              "      <td>India</td>\n",
              "      <td>USD</td>\n",
              "      <td>Blogging | Digital Marketing | SEO</td>\n",
              "    </tr>\n",
              "    <tr>\n",
              "      <th>4</th>\n",
              "      <td>I need a 3d work of my house</td>\n",
              "      <td>Design</td>\n",
              "      <td>Intermediate ($$)</td>\n",
              "      <td>3D Design</td>\n",
              "      <td>GBP</td>\n",
              "      <td>30.0</td>\n",
              "      <td>remote</td>\n",
              "      <td>ALL</td>\n",
              "      <td>fixed_price</td>\n",
              "      <td>2023-01-30 15:41:40</td>\n",
              "      <td>I require 3d work of my house. 3d plan already...</td>\n",
              "      <td>NaN</td>\n",
              "      <td>2022-01-02</td>\n",
              "      <td>Gloucester</td>\n",
              "      <td>United Kingdom</td>\n",
              "      <td>GBP</td>\n",
              "      <td>NaN</td>\n",
              "    </tr>\n",
              "  </tbody>\n",
              "</table>\n",
              "</div>\n",
              "      <button class=\"colab-df-convert\" onclick=\"convertToInteractive('df-8fb02ae5-c984-434e-b9c7-03af1f718420')\"\n",
              "              title=\"Convert this dataframe to an interactive table.\"\n",
              "              style=\"display:none;\">\n",
              "        \n",
              "  <svg xmlns=\"http://www.w3.org/2000/svg\" height=\"24px\"viewBox=\"0 0 24 24\"\n",
              "       width=\"24px\">\n",
              "    <path d=\"M0 0h24v24H0V0z\" fill=\"none\"/>\n",
              "    <path d=\"M18.56 5.44l.94 2.06.94-2.06 2.06-.94-2.06-.94-.94-2.06-.94 2.06-2.06.94zm-11 1L8.5 8.5l.94-2.06 2.06-.94-2.06-.94L8.5 2.5l-.94 2.06-2.06.94zm10 10l.94 2.06.94-2.06 2.06-.94-2.06-.94-.94-2.06-.94 2.06-2.06.94z\"/><path d=\"M17.41 7.96l-1.37-1.37c-.4-.4-.92-.59-1.43-.59-.52 0-1.04.2-1.43.59L10.3 9.45l-7.72 7.72c-.78.78-.78 2.05 0 2.83L4 21.41c.39.39.9.59 1.41.59.51 0 1.02-.2 1.41-.59l7.78-7.78 2.81-2.81c.8-.78.8-2.07 0-2.86zM5.41 20L4 18.59l7.72-7.72 1.47 1.35L5.41 20z\"/>\n",
              "  </svg>\n",
              "      </button>\n",
              "      \n",
              "  <style>\n",
              "    .colab-df-container {\n",
              "      display:flex;\n",
              "      flex-wrap:wrap;\n",
              "      gap: 12px;\n",
              "    }\n",
              "\n",
              "    .colab-df-convert {\n",
              "      background-color: #E8F0FE;\n",
              "      border: none;\n",
              "      border-radius: 50%;\n",
              "      cursor: pointer;\n",
              "      display: none;\n",
              "      fill: #1967D2;\n",
              "      height: 32px;\n",
              "      padding: 0 0 0 0;\n",
              "      width: 32px;\n",
              "    }\n",
              "\n",
              "    .colab-df-convert:hover {\n",
              "      background-color: #E2EBFA;\n",
              "      box-shadow: 0px 1px 2px rgba(60, 64, 67, 0.3), 0px 1px 3px 1px rgba(60, 64, 67, 0.15);\n",
              "      fill: #174EA6;\n",
              "    }\n",
              "\n",
              "    [theme=dark] .colab-df-convert {\n",
              "      background-color: #3B4455;\n",
              "      fill: #D2E3FC;\n",
              "    }\n",
              "\n",
              "    [theme=dark] .colab-df-convert:hover {\n",
              "      background-color: #434B5C;\n",
              "      box-shadow: 0px 1px 3px 1px rgba(0, 0, 0, 0.15);\n",
              "      filter: drop-shadow(0px 1px 2px rgba(0, 0, 0, 0.3));\n",
              "      fill: #FFFFFF;\n",
              "    }\n",
              "  </style>\n",
              "\n",
              "      <script>\n",
              "        const buttonEl =\n",
              "          document.querySelector('#df-8fb02ae5-c984-434e-b9c7-03af1f718420 button.colab-df-convert');\n",
              "        buttonEl.style.display =\n",
              "          google.colab.kernel.accessAllowed ? 'block' : 'none';\n",
              "\n",
              "        async function convertToInteractive(key) {\n",
              "          const element = document.querySelector('#df-8fb02ae5-c984-434e-b9c7-03af1f718420');\n",
              "          const dataTable =\n",
              "            await google.colab.kernel.invokeFunction('convertToInteractive',\n",
              "                                                     [key], {});\n",
              "          if (!dataTable) return;\n",
              "\n",
              "          const docLinkHtml = 'Like what you see? Visit the ' +\n",
              "            '<a target=\"_blank\" href=https://colab.research.google.com/notebooks/data_table.ipynb>data table notebook</a>'\n",
              "            + ' to learn more about interactive tables.';\n",
              "          element.innerHTML = '';\n",
              "          dataTable['output_type'] = 'display_data';\n",
              "          await google.colab.output.renderOutput(dataTable, element);\n",
              "          const docLink = document.createElement('div');\n",
              "          docLink.innerHTML = docLinkHtml;\n",
              "          element.appendChild(docLink);\n",
              "        }\n",
              "      </script>\n",
              "    </div>\n",
              "  </div>\n",
              "  "
            ]
          },
          "metadata": {},
          "execution_count": 2
        }
      ]
    },
    {
      "cell_type": "code",
      "source": [
        "# now we will check the shape and size of the dataset \n",
        "print(df.shape)\n",
        "print(df.size)"
      ],
      "metadata": {
        "colab": {
          "base_uri": "https://localhost:8080/"
        },
        "id": "APkDeQePELuI",
        "outputId": "98c5b7b2-caaf-4b37-a356-10d4e9ca71b4"
      },
      "execution_count": 3,
      "outputs": [
        {
          "output_type": "stream",
          "name": "stdout",
          "text": [
            "(1402, 17)\n",
            "23834\n"
          ]
        }
      ]
    },
    {
      "cell_type": "code",
      "source": [
        "#calculate all element\n",
        "df.size"
      ],
      "metadata": {
        "colab": {
          "base_uri": "https://localhost:8080/"
        },
        "id": "ov6etFGNGElX",
        "outputId": "d6d9e760-3302-4e7e-b2d8-d2d42846baf7"
      },
      "execution_count": 4,
      "outputs": [
        {
          "output_type": "execute_result",
          "data": {
            "text/plain": [
              "23834"
            ]
          },
          "metadata": {},
          "execution_count": 4
        }
      ]
    },
    {
      "cell_type": "code",
      "source": [
        "# Now the most important part of machine learning is that to explore the data \n",
        "# Before creating any machine learning model it is very important to have \n",
        "# the neat and clean data \n",
        "# The neat and clean data means such a data which do not have outeliers, skewness,\n",
        "# null values, and of course, should be numeric in nature \n",
        "# so lets move towords Exploratory data analysis"
      ],
      "metadata": {
        "id": "mBiFVDeSFJ41"
      },
      "execution_count": 5,
      "outputs": []
    },
    {
      "cell_type": "markdown",
      "source": [
        "# EXPLORATORY DATA ANALYSIS"
      ],
      "metadata": {
        "id": "yDGq5iERHSBv"
      }
    },
    {
      "cell_type": "code",
      "source": [
        "# lets do some analysis about out features and their datatypes\n",
        "\n",
        "df.info()\n",
        "# A i can see there are 1402 total entries but in two columns namely Duration \n",
        "# and Client job title  \n",
        "# have not equal non_null entries as total entries\n"
      ],
      "metadata": {
        "colab": {
          "base_uri": "https://localhost:8080/"
        },
        "id": "3A82VE38HAsB",
        "outputId": "a109eb35-5477-4c98-c23e-75b9f8f140f0"
      },
      "execution_count": 6,
      "outputs": [
        {
          "output_type": "stream",
          "name": "stdout",
          "text": [
            "<class 'pandas.core.frame.DataFrame'>\n",
            "RangeIndex: 1402 entries, 0 to 1401\n",
            "Data columns (total 17 columns):\n",
            " #   Column                     Non-Null Count  Dtype  \n",
            "---  ------                     --------------  -----  \n",
            " 0   Title                      1402 non-null   object \n",
            " 1   Category Name              1402 non-null   object \n",
            " 2   Experience                 1402 non-null   object \n",
            " 3   Sub Category Name          1402 non-null   object \n",
            " 4   Currency                   1402 non-null   object \n",
            " 5   Budget                     1402 non-null   float64\n",
            " 6   Location                   1402 non-null   object \n",
            " 7   Freelancer Preferred From  1402 non-null   object \n",
            " 8   Type                       1402 non-null   object \n",
            " 9   Date Posted                1402 non-null   object \n",
            " 10  Description                1402 non-null   object \n",
            " 11  Duration                   183 non-null    object \n",
            " 12  Client Registration Date   1402 non-null   object \n",
            " 13  Client City                1402 non-null   object \n",
            " 14  Client Country             1402 non-null   object \n",
            " 15  Client Currency            1402 non-null   object \n",
            " 16  Client Job Title           564 non-null    object \n",
            "dtypes: float64(1), object(16)\n",
            "memory usage: 186.3+ KB\n"
          ]
        }
      ]
    },
    {
      "cell_type": "code",
      "source": [
        "# statistical information \n",
        "df.describe()"
      ],
      "metadata": {
        "colab": {
          "base_uri": "https://localhost:8080/",
          "height": 300
        },
        "id": "AJZlYsx3hCCY",
        "outputId": "f964686d-702f-4d7b-91d0-cea62b4f5bf1"
      },
      "execution_count": 7,
      "outputs": [
        {
          "output_type": "execute_result",
          "data": {
            "text/plain": [
              "             Budget\n",
              "count   1402.000000\n",
              "mean     163.761056\n",
              "std      504.577388\n",
              "min        0.000000\n",
              "25%       30.000000\n",
              "50%       80.000000\n",
              "75%      150.000000\n",
              "max    10000.000000"
            ],
            "text/html": [
              "\n",
              "  <div id=\"df-dde27c21-e155-412b-bffa-41fcc57e31b2\">\n",
              "    <div class=\"colab-df-container\">\n",
              "      <div>\n",
              "<style scoped>\n",
              "    .dataframe tbody tr th:only-of-type {\n",
              "        vertical-align: middle;\n",
              "    }\n",
              "\n",
              "    .dataframe tbody tr th {\n",
              "        vertical-align: top;\n",
              "    }\n",
              "\n",
              "    .dataframe thead th {\n",
              "        text-align: right;\n",
              "    }\n",
              "</style>\n",
              "<table border=\"1\" class=\"dataframe\">\n",
              "  <thead>\n",
              "    <tr style=\"text-align: right;\">\n",
              "      <th></th>\n",
              "      <th>Budget</th>\n",
              "    </tr>\n",
              "  </thead>\n",
              "  <tbody>\n",
              "    <tr>\n",
              "      <th>count</th>\n",
              "      <td>1402.000000</td>\n",
              "    </tr>\n",
              "    <tr>\n",
              "      <th>mean</th>\n",
              "      <td>163.761056</td>\n",
              "    </tr>\n",
              "    <tr>\n",
              "      <th>std</th>\n",
              "      <td>504.577388</td>\n",
              "    </tr>\n",
              "    <tr>\n",
              "      <th>min</th>\n",
              "      <td>0.000000</td>\n",
              "    </tr>\n",
              "    <tr>\n",
              "      <th>25%</th>\n",
              "      <td>30.000000</td>\n",
              "    </tr>\n",
              "    <tr>\n",
              "      <th>50%</th>\n",
              "      <td>80.000000</td>\n",
              "    </tr>\n",
              "    <tr>\n",
              "      <th>75%</th>\n",
              "      <td>150.000000</td>\n",
              "    </tr>\n",
              "    <tr>\n",
              "      <th>max</th>\n",
              "      <td>10000.000000</td>\n",
              "    </tr>\n",
              "  </tbody>\n",
              "</table>\n",
              "</div>\n",
              "      <button class=\"colab-df-convert\" onclick=\"convertToInteractive('df-dde27c21-e155-412b-bffa-41fcc57e31b2')\"\n",
              "              title=\"Convert this dataframe to an interactive table.\"\n",
              "              style=\"display:none;\">\n",
              "        \n",
              "  <svg xmlns=\"http://www.w3.org/2000/svg\" height=\"24px\"viewBox=\"0 0 24 24\"\n",
              "       width=\"24px\">\n",
              "    <path d=\"M0 0h24v24H0V0z\" fill=\"none\"/>\n",
              "    <path d=\"M18.56 5.44l.94 2.06.94-2.06 2.06-.94-2.06-.94-.94-2.06-.94 2.06-2.06.94zm-11 1L8.5 8.5l.94-2.06 2.06-.94-2.06-.94L8.5 2.5l-.94 2.06-2.06.94zm10 10l.94 2.06.94-2.06 2.06-.94-2.06-.94-.94-2.06-.94 2.06-2.06.94z\"/><path d=\"M17.41 7.96l-1.37-1.37c-.4-.4-.92-.59-1.43-.59-.52 0-1.04.2-1.43.59L10.3 9.45l-7.72 7.72c-.78.78-.78 2.05 0 2.83L4 21.41c.39.39.9.59 1.41.59.51 0 1.02-.2 1.41-.59l7.78-7.78 2.81-2.81c.8-.78.8-2.07 0-2.86zM5.41 20L4 18.59l7.72-7.72 1.47 1.35L5.41 20z\"/>\n",
              "  </svg>\n",
              "      </button>\n",
              "      \n",
              "  <style>\n",
              "    .colab-df-container {\n",
              "      display:flex;\n",
              "      flex-wrap:wrap;\n",
              "      gap: 12px;\n",
              "    }\n",
              "\n",
              "    .colab-df-convert {\n",
              "      background-color: #E8F0FE;\n",
              "      border: none;\n",
              "      border-radius: 50%;\n",
              "      cursor: pointer;\n",
              "      display: none;\n",
              "      fill: #1967D2;\n",
              "      height: 32px;\n",
              "      padding: 0 0 0 0;\n",
              "      width: 32px;\n",
              "    }\n",
              "\n",
              "    .colab-df-convert:hover {\n",
              "      background-color: #E2EBFA;\n",
              "      box-shadow: 0px 1px 2px rgba(60, 64, 67, 0.3), 0px 1px 3px 1px rgba(60, 64, 67, 0.15);\n",
              "      fill: #174EA6;\n",
              "    }\n",
              "\n",
              "    [theme=dark] .colab-df-convert {\n",
              "      background-color: #3B4455;\n",
              "      fill: #D2E3FC;\n",
              "    }\n",
              "\n",
              "    [theme=dark] .colab-df-convert:hover {\n",
              "      background-color: #434B5C;\n",
              "      box-shadow: 0px 1px 3px 1px rgba(0, 0, 0, 0.15);\n",
              "      filter: drop-shadow(0px 1px 2px rgba(0, 0, 0, 0.3));\n",
              "      fill: #FFFFFF;\n",
              "    }\n",
              "  </style>\n",
              "\n",
              "      <script>\n",
              "        const buttonEl =\n",
              "          document.querySelector('#df-dde27c21-e155-412b-bffa-41fcc57e31b2 button.colab-df-convert');\n",
              "        buttonEl.style.display =\n",
              "          google.colab.kernel.accessAllowed ? 'block' : 'none';\n",
              "\n",
              "        async function convertToInteractive(key) {\n",
              "          const element = document.querySelector('#df-dde27c21-e155-412b-bffa-41fcc57e31b2');\n",
              "          const dataTable =\n",
              "            await google.colab.kernel.invokeFunction('convertToInteractive',\n",
              "                                                     [key], {});\n",
              "          if (!dataTable) return;\n",
              "\n",
              "          const docLinkHtml = 'Like what you see? Visit the ' +\n",
              "            '<a target=\"_blank\" href=https://colab.research.google.com/notebooks/data_table.ipynb>data table notebook</a>'\n",
              "            + ' to learn more about interactive tables.';\n",
              "          element.innerHTML = '';\n",
              "          dataTable['output_type'] = 'display_data';\n",
              "          await google.colab.output.renderOutput(dataTable, element);\n",
              "          const docLink = document.createElement('div');\n",
              "          docLink.innerHTML = docLinkHtml;\n",
              "          element.appendChild(docLink);\n",
              "        }\n",
              "      </script>\n",
              "    </div>\n",
              "  </div>\n",
              "  "
            ]
          },
          "metadata": {},
          "execution_count": 7
        }
      ]
    },
    {
      "cell_type": "code",
      "source": [
        "# Replace space in underscore \n",
        "df.columns = df.columns.str.replace(\" \",\"_\")\n",
        "df.columns"
      ],
      "metadata": {
        "colab": {
          "base_uri": "https://localhost:8080/"
        },
        "id": "a-_2p2QQIDOa",
        "outputId": "06f5f403-fbc1-4daa-ff71-d0843eb7d143"
      },
      "execution_count": 8,
      "outputs": [
        {
          "output_type": "execute_result",
          "data": {
            "text/plain": [
              "Index(['Title', 'Category_Name', 'Experience', 'Sub_Category_Name', 'Currency',\n",
              "       'Budget', 'Location', 'Freelancer_Preferred_From', 'Type',\n",
              "       'Date_Posted', 'Description', 'Duration', 'Client_Registration_Date',\n",
              "       'Client_City', 'Client_Country', 'Client_Currency', 'Client_Job_Title'],\n",
              "      dtype='object')"
            ]
          },
          "metadata": {},
          "execution_count": 8
        }
      ]
    },
    {
      "cell_type": "code",
      "source": [
        "#check null values\n",
        "df.isnull().sum()"
      ],
      "metadata": {
        "colab": {
          "base_uri": "https://localhost:8080/"
        },
        "id": "P5RzBszRJO4V",
        "outputId": "31d9aaca-db35-47db-c347-feb5a67ffce6"
      },
      "execution_count": 9,
      "outputs": [
        {
          "output_type": "execute_result",
          "data": {
            "text/plain": [
              "Title                           0\n",
              "Category_Name                   0\n",
              "Experience                      0\n",
              "Sub_Category_Name               0\n",
              "Currency                        0\n",
              "Budget                          0\n",
              "Location                        0\n",
              "Freelancer_Preferred_From       0\n",
              "Type                            0\n",
              "Date_Posted                     0\n",
              "Description                     0\n",
              "Duration                     1219\n",
              "Client_Registration_Date        0\n",
              "Client_City                     0\n",
              "Client_Country                  0\n",
              "Client_Currency                 0\n",
              "Client_Job_Title              838\n",
              "dtype: int64"
            ]
          },
          "metadata": {},
          "execution_count": 9
        }
      ]
    },
    {
      "cell_type": "code",
      "source": [
        "# So, there are two such columns which as over 60-70% null values\n",
        "# so, there is no sense of keeping those columns, so we prefer to \n",
        "# delete those columns \n",
        "\n",
        "df=df.drop(df[[\"Duration\",\"Client_Job_Title\"]],axis =1)\n",
        "df.head()"
      ],
      "metadata": {
        "colab": {
          "base_uri": "https://localhost:8080/",
          "height": 565
        },
        "id": "MJnLGTJgKAQM",
        "outputId": "e518a6ba-80a9-4f5e-e6c6-1b867938b8fd"
      },
      "execution_count": 10,
      "outputs": [
        {
          "output_type": "execute_result",
          "data": {
            "text/plain": [
              "                                            Title  \\\n",
              "0  i need an interactive form building n my site    \n",
              "1                  3D model of BIG MINING MACHINE   \n",
              "2                            Sales Email Template   \n",
              "3           Need Writer to Write a Review Article   \n",
              "4                   I need a 3d work of my house    \n",
              "\n",
              "                 Category_Name         Experience    Sub_Category_Name  \\\n",
              "0     Technology & Programming          Entry ($)  Website Development   \n",
              "1                       Design       Expert ($$$)            3D Design   \n",
              "2  Marketing, Branding & Sales       Expert ($$$)        Sales & Calls   \n",
              "3        Writing & Translation          Entry ($)      Content Writing   \n",
              "4                       Design  Intermediate ($$)            3D Design   \n",
              "\n",
              "  Currency  Budget Location Freelancer_Preferred_From         Type  \\\n",
              "0      GBP    20.0   remote                       ALL  fixed_price   \n",
              "1      EUR  2007.0   remote                       ALL  fixed_price   \n",
              "2      GBP    25.0   remote                       ALL       hourly   \n",
              "3      USD    30.0   remote                       ALL  fixed_price   \n",
              "4      GBP    30.0   remote                       ALL  fixed_price   \n",
              "\n",
              "           Date_Posted                                        Description  \\\n",
              "0  2023-01-30 16:04:50  i want to cllect leads/data on my site. i want...   \n",
              "1  2023-01-30 16:04:50  Hi everyone,\\ntoday im looking for \"SKILLED\" 3...   \n",
              "2  2023-01-30 15:55:38  Looking for a template that can be used when w...   \n",
              "3  2023-01-30 15:55:38  I need a writer who can able to write a review...   \n",
              "4  2023-01-30 15:41:40  I require 3d work of my house. 3d plan already...   \n",
              "\n",
              "  Client_Registration_Date Client_City  Client_Country Client_Currency  \n",
              "0               2016-05-17   Tadcaster  United Kingdom             GBP  \n",
              "1               2019-06-05     Ostrava  Czech Republic             USD  \n",
              "2               2022-12-05   Ardrossan  United Kingdom             GBP  \n",
              "3               2014-10-08     Kolkata           India             USD  \n",
              "4               2022-01-02  Gloucester  United Kingdom             GBP  "
            ],
            "text/html": [
              "\n",
              "  <div id=\"df-854c9b00-8304-4373-9529-2a73b82c6c22\">\n",
              "    <div class=\"colab-df-container\">\n",
              "      <div>\n",
              "<style scoped>\n",
              "    .dataframe tbody tr th:only-of-type {\n",
              "        vertical-align: middle;\n",
              "    }\n",
              "\n",
              "    .dataframe tbody tr th {\n",
              "        vertical-align: top;\n",
              "    }\n",
              "\n",
              "    .dataframe thead th {\n",
              "        text-align: right;\n",
              "    }\n",
              "</style>\n",
              "<table border=\"1\" class=\"dataframe\">\n",
              "  <thead>\n",
              "    <tr style=\"text-align: right;\">\n",
              "      <th></th>\n",
              "      <th>Title</th>\n",
              "      <th>Category_Name</th>\n",
              "      <th>Experience</th>\n",
              "      <th>Sub_Category_Name</th>\n",
              "      <th>Currency</th>\n",
              "      <th>Budget</th>\n",
              "      <th>Location</th>\n",
              "      <th>Freelancer_Preferred_From</th>\n",
              "      <th>Type</th>\n",
              "      <th>Date_Posted</th>\n",
              "      <th>Description</th>\n",
              "      <th>Client_Registration_Date</th>\n",
              "      <th>Client_City</th>\n",
              "      <th>Client_Country</th>\n",
              "      <th>Client_Currency</th>\n",
              "    </tr>\n",
              "  </thead>\n",
              "  <tbody>\n",
              "    <tr>\n",
              "      <th>0</th>\n",
              "      <td>i need an interactive form building n my site</td>\n",
              "      <td>Technology &amp; Programming</td>\n",
              "      <td>Entry ($)</td>\n",
              "      <td>Website Development</td>\n",
              "      <td>GBP</td>\n",
              "      <td>20.0</td>\n",
              "      <td>remote</td>\n",
              "      <td>ALL</td>\n",
              "      <td>fixed_price</td>\n",
              "      <td>2023-01-30 16:04:50</td>\n",
              "      <td>i want to cllect leads/data on my site. i want...</td>\n",
              "      <td>2016-05-17</td>\n",
              "      <td>Tadcaster</td>\n",
              "      <td>United Kingdom</td>\n",
              "      <td>GBP</td>\n",
              "    </tr>\n",
              "    <tr>\n",
              "      <th>1</th>\n",
              "      <td>3D model of BIG MINING MACHINE</td>\n",
              "      <td>Design</td>\n",
              "      <td>Expert ($$$)</td>\n",
              "      <td>3D Design</td>\n",
              "      <td>EUR</td>\n",
              "      <td>2007.0</td>\n",
              "      <td>remote</td>\n",
              "      <td>ALL</td>\n",
              "      <td>fixed_price</td>\n",
              "      <td>2023-01-30 16:04:50</td>\n",
              "      <td>Hi everyone,\\ntoday im looking for \"SKILLED\" 3...</td>\n",
              "      <td>2019-06-05</td>\n",
              "      <td>Ostrava</td>\n",
              "      <td>Czech Republic</td>\n",
              "      <td>USD</td>\n",
              "    </tr>\n",
              "    <tr>\n",
              "      <th>2</th>\n",
              "      <td>Sales Email Template</td>\n",
              "      <td>Marketing, Branding &amp; Sales</td>\n",
              "      <td>Expert ($$$)</td>\n",
              "      <td>Sales &amp; Calls</td>\n",
              "      <td>GBP</td>\n",
              "      <td>25.0</td>\n",
              "      <td>remote</td>\n",
              "      <td>ALL</td>\n",
              "      <td>hourly</td>\n",
              "      <td>2023-01-30 15:55:38</td>\n",
              "      <td>Looking for a template that can be used when w...</td>\n",
              "      <td>2022-12-05</td>\n",
              "      <td>Ardrossan</td>\n",
              "      <td>United Kingdom</td>\n",
              "      <td>GBP</td>\n",
              "    </tr>\n",
              "    <tr>\n",
              "      <th>3</th>\n",
              "      <td>Need Writer to Write a Review Article</td>\n",
              "      <td>Writing &amp; Translation</td>\n",
              "      <td>Entry ($)</td>\n",
              "      <td>Content Writing</td>\n",
              "      <td>USD</td>\n",
              "      <td>30.0</td>\n",
              "      <td>remote</td>\n",
              "      <td>ALL</td>\n",
              "      <td>fixed_price</td>\n",
              "      <td>2023-01-30 15:55:38</td>\n",
              "      <td>I need a writer who can able to write a review...</td>\n",
              "      <td>2014-10-08</td>\n",
              "      <td>Kolkata</td>\n",
              "      <td>India</td>\n",
              "      <td>USD</td>\n",
              "    </tr>\n",
              "    <tr>\n",
              "      <th>4</th>\n",
              "      <td>I need a 3d work of my house</td>\n",
              "      <td>Design</td>\n",
              "      <td>Intermediate ($$)</td>\n",
              "      <td>3D Design</td>\n",
              "      <td>GBP</td>\n",
              "      <td>30.0</td>\n",
              "      <td>remote</td>\n",
              "      <td>ALL</td>\n",
              "      <td>fixed_price</td>\n",
              "      <td>2023-01-30 15:41:40</td>\n",
              "      <td>I require 3d work of my house. 3d plan already...</td>\n",
              "      <td>2022-01-02</td>\n",
              "      <td>Gloucester</td>\n",
              "      <td>United Kingdom</td>\n",
              "      <td>GBP</td>\n",
              "    </tr>\n",
              "  </tbody>\n",
              "</table>\n",
              "</div>\n",
              "      <button class=\"colab-df-convert\" onclick=\"convertToInteractive('df-854c9b00-8304-4373-9529-2a73b82c6c22')\"\n",
              "              title=\"Convert this dataframe to an interactive table.\"\n",
              "              style=\"display:none;\">\n",
              "        \n",
              "  <svg xmlns=\"http://www.w3.org/2000/svg\" height=\"24px\"viewBox=\"0 0 24 24\"\n",
              "       width=\"24px\">\n",
              "    <path d=\"M0 0h24v24H0V0z\" fill=\"none\"/>\n",
              "    <path d=\"M18.56 5.44l.94 2.06.94-2.06 2.06-.94-2.06-.94-.94-2.06-.94 2.06-2.06.94zm-11 1L8.5 8.5l.94-2.06 2.06-.94-2.06-.94L8.5 2.5l-.94 2.06-2.06.94zm10 10l.94 2.06.94-2.06 2.06-.94-2.06-.94-.94-2.06-.94 2.06-2.06.94z\"/><path d=\"M17.41 7.96l-1.37-1.37c-.4-.4-.92-.59-1.43-.59-.52 0-1.04.2-1.43.59L10.3 9.45l-7.72 7.72c-.78.78-.78 2.05 0 2.83L4 21.41c.39.39.9.59 1.41.59.51 0 1.02-.2 1.41-.59l7.78-7.78 2.81-2.81c.8-.78.8-2.07 0-2.86zM5.41 20L4 18.59l7.72-7.72 1.47 1.35L5.41 20z\"/>\n",
              "  </svg>\n",
              "      </button>\n",
              "      \n",
              "  <style>\n",
              "    .colab-df-container {\n",
              "      display:flex;\n",
              "      flex-wrap:wrap;\n",
              "      gap: 12px;\n",
              "    }\n",
              "\n",
              "    .colab-df-convert {\n",
              "      background-color: #E8F0FE;\n",
              "      border: none;\n",
              "      border-radius: 50%;\n",
              "      cursor: pointer;\n",
              "      display: none;\n",
              "      fill: #1967D2;\n",
              "      height: 32px;\n",
              "      padding: 0 0 0 0;\n",
              "      width: 32px;\n",
              "    }\n",
              "\n",
              "    .colab-df-convert:hover {\n",
              "      background-color: #E2EBFA;\n",
              "      box-shadow: 0px 1px 2px rgba(60, 64, 67, 0.3), 0px 1px 3px 1px rgba(60, 64, 67, 0.15);\n",
              "      fill: #174EA6;\n",
              "    }\n",
              "\n",
              "    [theme=dark] .colab-df-convert {\n",
              "      background-color: #3B4455;\n",
              "      fill: #D2E3FC;\n",
              "    }\n",
              "\n",
              "    [theme=dark] .colab-df-convert:hover {\n",
              "      background-color: #434B5C;\n",
              "      box-shadow: 0px 1px 3px 1px rgba(0, 0, 0, 0.15);\n",
              "      filter: drop-shadow(0px 1px 2px rgba(0, 0, 0, 0.3));\n",
              "      fill: #FFFFFF;\n",
              "    }\n",
              "  </style>\n",
              "\n",
              "      <script>\n",
              "        const buttonEl =\n",
              "          document.querySelector('#df-854c9b00-8304-4373-9529-2a73b82c6c22 button.colab-df-convert');\n",
              "        buttonEl.style.display =\n",
              "          google.colab.kernel.accessAllowed ? 'block' : 'none';\n",
              "\n",
              "        async function convertToInteractive(key) {\n",
              "          const element = document.querySelector('#df-854c9b00-8304-4373-9529-2a73b82c6c22');\n",
              "          const dataTable =\n",
              "            await google.colab.kernel.invokeFunction('convertToInteractive',\n",
              "                                                     [key], {});\n",
              "          if (!dataTable) return;\n",
              "\n",
              "          const docLinkHtml = 'Like what you see? Visit the ' +\n",
              "            '<a target=\"_blank\" href=https://colab.research.google.com/notebooks/data_table.ipynb>data table notebook</a>'\n",
              "            + ' to learn more about interactive tables.';\n",
              "          element.innerHTML = '';\n",
              "          dataTable['output_type'] = 'display_data';\n",
              "          await google.colab.output.renderOutput(dataTable, element);\n",
              "          const docLink = document.createElement('div');\n",
              "          docLink.innerHTML = docLinkHtml;\n",
              "          element.appendChild(docLink);\n",
              "        }\n",
              "      </script>\n",
              "    </div>\n",
              "  </div>\n",
              "  "
            ]
          },
          "metadata": {},
          "execution_count": 10
        }
      ]
    },
    {
      "cell_type": "code",
      "source": [
        "# now we can see our data does not contain any null values\n",
        "df.isnull().sum()"
      ],
      "metadata": {
        "colab": {
          "base_uri": "https://localhost:8080/"
        },
        "id": "i33cj_gRLAQU",
        "outputId": "55e3e595-30b5-4cef-f4a3-8c4288dbaf9c"
      },
      "execution_count": 11,
      "outputs": [
        {
          "output_type": "execute_result",
          "data": {
            "text/plain": [
              "Title                        0\n",
              "Category_Name                0\n",
              "Experience                   0\n",
              "Sub_Category_Name            0\n",
              "Currency                     0\n",
              "Budget                       0\n",
              "Location                     0\n",
              "Freelancer_Preferred_From    0\n",
              "Type                         0\n",
              "Date_Posted                  0\n",
              "Description                  0\n",
              "Client_Registration_Date     0\n",
              "Client_City                  0\n",
              "Client_Country               0\n",
              "Client_Currency              0\n",
              "dtype: int64"
            ]
          },
          "metadata": {},
          "execution_count": 11
        }
      ]
    },
    {
      "cell_type": "code",
      "source": [
        "#check duplicates value\n",
        "dupl=df[df.duplicated()]\n",
        "dupl.count()"
      ],
      "metadata": {
        "colab": {
          "base_uri": "https://localhost:8080/"
        },
        "id": "pejQCtS4gznm",
        "outputId": "a07dbc90-c3db-488e-a94a-f9d2d6db487a"
      },
      "execution_count": 12,
      "outputs": [
        {
          "output_type": "execute_result",
          "data": {
            "text/plain": [
              "Title                        0\n",
              "Category_Name                0\n",
              "Experience                   0\n",
              "Sub_Category_Name            0\n",
              "Currency                     0\n",
              "Budget                       0\n",
              "Location                     0\n",
              "Freelancer_Preferred_From    0\n",
              "Type                         0\n",
              "Date_Posted                  0\n",
              "Description                  0\n",
              "Client_Registration_Date     0\n",
              "Client_City                  0\n",
              "Client_Country               0\n",
              "Client_Currency              0\n",
              "dtype: int64"
            ]
          },
          "metadata": {},
          "execution_count": 12
        }
      ]
    },
    {
      "cell_type": "code",
      "source": [
        "df[\"Title\"].nunique()\n"
      ],
      "metadata": {
        "colab": {
          "base_uri": "https://localhost:8080/"
        },
        "id": "6ntafA49M2h4",
        "outputId": "339ffb35-d531-41aa-f6c0-8e38eda74cf5"
      },
      "execution_count": 13,
      "outputs": [
        {
          "output_type": "execute_result",
          "data": {
            "text/plain": [
              "1353"
            ]
          },
          "metadata": {},
          "execution_count": 13
        }
      ]
    },
    {
      "cell_type": "code",
      "source": [
        "df[\"Description\"].nunique()\n"
      ],
      "metadata": {
        "colab": {
          "base_uri": "https://localhost:8080/"
        },
        "id": "3QOu7N4fNfxH",
        "outputId": "6f47e045-8099-41ad-d1b3-3b7a0f77c930"
      },
      "execution_count": 14,
      "outputs": [
        {
          "output_type": "execute_result",
          "data": {
            "text/plain": [
              "1368"
            ]
          },
          "metadata": {},
          "execution_count": 14
        }
      ]
    },
    {
      "cell_type": "code",
      "source": [
        "df=df.drop(df[[\"Title\",\"Description\"]],axis=1)"
      ],
      "metadata": {
        "id": "gZinu3qeNg-6"
      },
      "execution_count": 15,
      "outputs": []
    },
    {
      "cell_type": "code",
      "source": [
        "# now we will check for all data type of all columns \n",
        "df.dtypes"
      ],
      "metadata": {
        "colab": {
          "base_uri": "https://localhost:8080/"
        },
        "id": "iqkDSbWnN0jj",
        "outputId": "53f402b8-f47f-4d41-d22c-e0bdf0122fc8"
      },
      "execution_count": 16,
      "outputs": [
        {
          "output_type": "execute_result",
          "data": {
            "text/plain": [
              "Category_Name                 object\n",
              "Experience                    object\n",
              "Sub_Category_Name             object\n",
              "Currency                      object\n",
              "Budget                       float64\n",
              "Location                      object\n",
              "Freelancer_Preferred_From     object\n",
              "Type                          object\n",
              "Date_Posted                   object\n",
              "Client_Registration_Date      object\n",
              "Client_City                   object\n",
              "Client_Country                object\n",
              "Client_Currency               object\n",
              "dtype: object"
            ]
          },
          "metadata": {},
          "execution_count": 16
        }
      ]
    },
    {
      "cell_type": "code",
      "source": [
        "# As two columns namely Data Posted and Client Registration Date are object but\n",
        "# actualy should be date time \n",
        "# so lets convert it to datetime data\n",
        "df[\"Client_Registration_Date\"] = pd.to_datetime(df[\"Client_Registration_Date\"])\n",
        "df[\"Date_Posted\"] = pd.to_datetime(df[\"Date_Posted\"])"
      ],
      "metadata": {
        "id": "3LiPprsyN5uW"
      },
      "execution_count": 17,
      "outputs": []
    },
    {
      "cell_type": "code",
      "source": [
        "# lets do some feature engineering here \n",
        "import datetime as dt\n",
        "df[\"Day_Registraterd\"] = df[\"Client_Registration_Date\"].dt.day\n",
        "df[\"Day_Posted\"] = df[\"Date_Posted\"].dt.day"
      ],
      "metadata": {
        "id": "f2lmFAEGP_98"
      },
      "execution_count": 18,
      "outputs": []
    },
    {
      "cell_type": "code",
      "source": [
        "df =df.drop(df[[\"Client_Registration_Date\",\"Date_Posted\"]], axis=1)"
      ],
      "metadata": {
        "id": "O5TIcTTjQ98-"
      },
      "execution_count": 19,
      "outputs": []
    },
    {
      "cell_type": "code",
      "source": [
        "# now we will check for outliers in our data in case of numeric columns \n",
        "sns.boxplot(df[\"Budget\"])"
      ],
      "metadata": {
        "colab": {
          "base_uri": "https://localhost:8080/",
          "height": 282
        },
        "id": "gp5EqIDfRqO5",
        "outputId": "496f33bd-1c60-4253-9a9a-8b536c593859"
      },
      "execution_count": 20,
      "outputs": [
        {
          "output_type": "execute_result",
          "data": {
            "text/plain": [
              "<Axes: >"
            ]
          },
          "metadata": {},
          "execution_count": 20
        },
        {
          "output_type": "display_data",
          "data": {
            "text/plain": [
              "<Figure size 432x288 with 1 Axes>"
            ],
            "image/png": "[encoded data removed]"
          },
          "metadata": {
            "needs_background": "light"
          }
        }
      ]
    },
    {
      "cell_type": "code",
      "source": [
        "# find IQR\n",
        "Q1=df.quantile(0.25)\n",
        "Q3=df.quantile(0.75)\n",
        "IQR=Q3-Q1\n",
        "print(IQR)"
      ],
      "metadata": {
        "colab": {
          "base_uri": "https://localhost:8080/"
        },
        "id": "66kldGiqiIR0",
        "outputId": "88ed095f-fd77-4ae6-ebb0-59c933c93de6"
      },
      "execution_count": 21,
      "outputs": [
        {
          "output_type": "stream",
          "name": "stdout",
          "text": [
            "Budget              120.00\n",
            "Day_Registraterd     16.00\n",
            "Day_Posted            4.75\n",
            "dtype: float64\n"
          ]
        }
      ]
    },
    {
      "cell_type": "code",
      "source": [
        "# remove outliers in our data\n",
        "df=df[~((df < (Q1-1.5*IQR)) | (df > (Q3+1.5*IQR))).any(axis=1)]\n",
        "df.shape"
      ],
      "metadata": {
        "colab": {
          "base_uri": "https://localhost:8080/"
        },
        "id": "6DxRjDODiK8S",
        "outputId": "989a611a-6e95-4532-bb04-7f4aea31f5e7"
      },
      "execution_count": 22,
      "outputs": [
        {
          "output_type": "execute_result",
          "data": {
            "text/plain": [
              "(1284, 13)"
            ]
          },
          "metadata": {},
          "execution_count": 22
        }
      ]
    },
    {
      "cell_type": "code",
      "source": [
        "# now we check outliers \n",
        "sns.boxplot(df['Budget'])"
      ],
      "metadata": {
        "colab": {
          "base_uri": "https://localhost:8080/",
          "height": 282
        },
        "id": "IWd-QcG8iv10",
        "outputId": "c002c583-84b2-45ad-f257-3d8818492fb7"
      },
      "execution_count": 23,
      "outputs": [
        {
          "output_type": "execute_result",
          "data": {
            "text/plain": [
              "<Axes: >"
            ]
          },
          "metadata": {},
          "execution_count": 23
        },
        {
          "output_type": "display_data",
          "data": {
            "text/plain": [
              "<Figure size 432x288 with 1 Axes>"
            ],
            "image/png": "[encoded data removed]"
          },
          "metadata": {
            "needs_background": "light"
          }
        }
      ]
    },
    {
      "cell_type": "code",
      "source": [
        "# set index\n",
        "df.reset_index()\n",
        "df= df.reset_index(drop = True)\n",
        "df.head()"
      ],
      "metadata": {
        "colab": {
          "base_uri": "https://localhost:8080/",
          "height": 374
        },
        "id": "1Y9gRzEEiwdX",
        "outputId": "fd85d417-c4cd-4b9a-990c-f9ff7ad1fd12"
      },
      "execution_count": 24,
      "outputs": [
        {
          "output_type": "execute_result",
          "data": {
            "text/plain": [
              "                 Category_Name         Experience    Sub_Category_Name  \\\n",
              "0     Technology & Programming          Entry ($)  Website Development   \n",
              "1  Marketing, Branding & Sales       Expert ($$$)        Sales & Calls   \n",
              "2        Writing & Translation          Entry ($)      Content Writing   \n",
              "3                       Design  Intermediate ($$)            3D Design   \n",
              "4     Technology & Programming          Entry ($)  Website Development   \n",
              "\n",
              "  Currency  Budget Location Freelancer_Preferred_From         Type  \\\n",
              "0      GBP    20.0   remote                       ALL  fixed_price   \n",
              "1      GBP    25.0   remote                       ALL       hourly   \n",
              "2      USD    30.0   remote                       ALL  fixed_price   \n",
              "3      GBP    30.0   remote                       ALL  fixed_price   \n",
              "4      GBP    20.0   remote                       ALL       hourly   \n",
              "\n",
              "  Client_City  Client_Country Client_Currency  Day_Registraterd  Day_Posted  \n",
              "0   Tadcaster  United Kingdom             GBP                17          30  \n",
              "1   Ardrossan  United Kingdom             GBP                 5          30  \n",
              "2     Kolkata           India             USD                 8          30  \n",
              "3  Gloucester  United Kingdom             GBP                 2          30  \n",
              "4       Leeds  United Kingdom             GBP                11          30  "
            ],
            "text/html": [
              "\n",
              "  <div id=\"df-f24d8c2d-4598-40af-a10e-a98710bc5169\">\n",
              "    <div class=\"colab-df-container\">\n",
              "      <div>\n",
              "<style scoped>\n",
              "    .dataframe tbody tr th:only-of-type {\n",
              "        vertical-align: middle;\n",
              "    }\n",
              "\n",
              "    .dataframe tbody tr th {\n",
              "        vertical-align: top;\n",
              "    }\n",
              "\n",
              "    .dataframe thead th {\n",
              "        text-align: right;\n",
              "    }\n",
              "</style>\n",
              "<table border=\"1\" class=\"dataframe\">\n",
              "  <thead>\n",
              "    <tr style=\"text-align: right;\">\n",
              "      <th></th>\n",
              "      <th>Category_Name</th>\n",
              "      <th>Experience</th>\n",
              "      <th>Sub_Category_Name</th>\n",
              "      <th>Currency</th>\n",
              "      <th>Budget</th>\n",
              "      <th>Location</th>\n",
              "      <th>Freelancer_Preferred_From</th>\n",
              "      <th>Type</th>\n",
              "      <th>Client_City</th>\n",
              "      <th>Client_Country</th>\n",
              "      <th>Client_Currency</th>\n",
              "      <th>Day_Registraterd</th>\n",
              "      <th>Day_Posted</th>\n",
              "    </tr>\n",
              "  </thead>\n",
              "  <tbody>\n",
              "    <tr>\n",
              "      <th>0</th>\n",
              "      <td>Technology &amp; Programming</td>\n",
              "      <td>Entry ($)</td>\n",
              "      <td>Website Development</td>\n",
              "      <td>GBP</td>\n",
              "      <td>20.0</td>\n",
              "      <td>remote</td>\n",
              "      <td>ALL</td>\n",
              "      <td>fixed_price</td>\n",
              "      <td>Tadcaster</td>\n",
              "      <td>United Kingdom</td>\n",
              "      <td>GBP</td>\n",
              "      <td>17</td>\n",
              "      <td>30</td>\n",
              "    </tr>\n",
              "    <tr>\n",
              "      <th>1</th>\n",
              "      <td>Marketing, Branding &amp; Sales</td>\n",
              "      <td>Expert ($$$)</td>\n",
              "      <td>Sales &amp; Calls</td>\n",
              "      <td>GBP</td>\n",
              "      <td>25.0</td>\n",
              "      <td>remote</td>\n",
              "      <td>ALL</td>\n",
              "      <td>hourly</td>\n",
              "      <td>Ardrossan</td>\n",
              "      <td>United Kingdom</td>\n",
              "      <td>GBP</td>\n",
              "      <td>5</td>\n",
              "      <td>30</td>\n",
              "    </tr>\n",
              "    <tr>\n",
              "      <th>2</th>\n",
              "      <td>Writing &amp; Translation</td>\n",
              "      <td>Entry ($)</td>\n",
              "      <td>Content Writing</td>\n",
              "      <td>USD</td>\n",
              "      <td>30.0</td>\n",
              "      <td>remote</td>\n",
              "      <td>ALL</td>\n",
              "      <td>fixed_price</td>\n",
              "      <td>Kolkata</td>\n",
              "      <td>India</td>\n",
              "      <td>USD</td>\n",
              "      <td>8</td>\n",
              "      <td>30</td>\n",
              "    </tr>\n",
              "    <tr>\n",
              "      <th>3</th>\n",
              "      <td>Design</td>\n",
              "      <td>Intermediate ($$)</td>\n",
              "      <td>3D Design</td>\n",
              "      <td>GBP</td>\n",
              "      <td>30.0</td>\n",
              "      <td>remote</td>\n",
              "      <td>ALL</td>\n",
              "      <td>fixed_price</td>\n",
              "      <td>Gloucester</td>\n",
              "      <td>United Kingdom</td>\n",
              "      <td>GBP</td>\n",
              "      <td>2</td>\n",
              "      <td>30</td>\n",
              "    </tr>\n",
              "    <tr>\n",
              "      <th>4</th>\n",
              "      <td>Technology &amp; Programming</td>\n",
              "      <td>Entry ($)</td>\n",
              "      <td>Website Development</td>\n",
              "      <td>GBP</td>\n",
              "      <td>20.0</td>\n",
              "      <td>remote</td>\n",
              "      <td>ALL</td>\n",
              "      <td>hourly</td>\n",
              "      <td>Leeds</td>\n",
              "      <td>United Kingdom</td>\n",
              "      <td>GBP</td>\n",
              "      <td>11</td>\n",
              "      <td>30</td>\n",
              "    </tr>\n",
              "  </tbody>\n",
              "</table>\n",
              "</div>\n",
              "      <button class=\"colab-df-convert\" onclick=\"convertToInteractive('df-f24d8c2d-4598-40af-a10e-a98710bc5169')\"\n",
              "              title=\"Convert this dataframe to an interactive table.\"\n",
              "              style=\"display:none;\">\n",
              "        \n",
              "  <svg xmlns=\"http://www.w3.org/2000/svg\" height=\"24px\"viewBox=\"0 0 24 24\"\n",
              "       width=\"24px\">\n",
              "    <path d=\"M0 0h24v24H0V0z\" fill=\"none\"/>\n",
              "    <path d=\"M18.56 5.44l.94 2.06.94-2.06 2.06-.94-2.06-.94-.94-2.06-.94 2.06-2.06.94zm-11 1L8.5 8.5l.94-2.06 2.06-.94-2.06-.94L8.5 2.5l-.94 2.06-2.06.94zm10 10l.94 2.06.94-2.06 2.06-.94-2.06-.94-.94-2.06-.94 2.06-2.06.94z\"/><path d=\"M17.41 7.96l-1.37-1.37c-.4-.4-.92-.59-1.43-.59-.52 0-1.04.2-1.43.59L10.3 9.45l-7.72 7.72c-.78.78-.78 2.05 0 2.83L4 21.41c.39.39.9.59 1.41.59.51 0 1.02-.2 1.41-.59l7.78-7.78 2.81-2.81c.8-.78.8-2.07 0-2.86zM5.41 20L4 18.59l7.72-7.72 1.47 1.35L5.41 20z\"/>\n",
              "  </svg>\n",
              "      </button>\n",
              "      \n",
              "  <style>\n",
              "    .colab-df-container {\n",
              "      display:flex;\n",
              "      flex-wrap:wrap;\n",
              "      gap: 12px;\n",
              "    }\n",
              "\n",
              "    .colab-df-convert {\n",
              "      background-color: #E8F0FE;\n",
              "      border: none;\n",
              "      border-radius: 50%;\n",
              "      cursor: pointer;\n",
              "      display: none;\n",
              "      fill: #1967D2;\n",
              "      height: 32px;\n",
              "      padding: 0 0 0 0;\n",
              "      width: 32px;\n",
              "    }\n",
              "\n",
              "    .colab-df-convert:hover {\n",
              "      background-color: #E2EBFA;\n",
              "      box-shadow: 0px 1px 2px rgba(60, 64, 67, 0.3), 0px 1px 3px 1px rgba(60, 64, 67, 0.15);\n",
              "      fill: #174EA6;\n",
              "    }\n",
              "\n",
              "    [theme=dark] .colab-df-convert {\n",
              "      background-color: #3B4455;\n",
              "      fill: #D2E3FC;\n",
              "    }\n",
              "\n",
              "    [theme=dark] .colab-df-convert:hover {\n",
              "      background-color: #434B5C;\n",
              "      box-shadow: 0px 1px 3px 1px rgba(0, 0, 0, 0.15);\n",
              "      filter: drop-shadow(0px 1px 2px rgba(0, 0, 0, 0.3));\n",
              "      fill: #FFFFFF;\n",
              "    }\n",
              "  </style>\n",
              "\n",
              "      <script>\n",
              "        const buttonEl =\n",
              "          document.querySelector('#df-f24d8c2d-4598-40af-a10e-a98710bc5169 button.colab-df-convert');\n",
              "        buttonEl.style.display =\n",
              "          google.colab.kernel.accessAllowed ? 'block' : 'none';\n",
              "\n",
              "        async function convertToInteractive(key) {\n",
              "          const element = document.querySelector('#df-f24d8c2d-4598-40af-a10e-a98710bc5169');\n",
              "          const dataTable =\n",
              "            await google.colab.kernel.invokeFunction('convertToInteractive',\n",
              "                                                     [key], {});\n",
              "          if (!dataTable) return;\n",
              "\n",
              "          const docLinkHtml = 'Like what you see? Visit the ' +\n",
              "            '<a target=\"_blank\" href=https://colab.research.google.com/notebooks/data_table.ipynb>data table notebook</a>'\n",
              "            + ' to learn more about interactive tables.';\n",
              "          element.innerHTML = '';\n",
              "          dataTable['output_type'] = 'display_data';\n",
              "          await google.colab.output.renderOutput(dataTable, element);\n",
              "          const docLink = document.createElement('div');\n",
              "          docLink.innerHTML = docLinkHtml;\n",
              "          element.appendChild(docLink);\n",
              "        }\n",
              "      </script>\n",
              "    </div>\n",
              "  </div>\n",
              "  "
            ]
          },
          "metadata": {},
          "execution_count": 24
        }
      ]
    },
    {
      "cell_type": "code",
      "source": [
        "# lets check for skewness in numeric feature\n",
        "sns.histplot(df[\"Budget\"],kde =True)\n",
        "plt.show()\n",
        "# it is highly positive skewed\n",
        "# so to perform model well it would be better resolve this problem"
      ],
      "metadata": {
        "colab": {
          "base_uri": "https://localhost:8080/",
          "height": 279
        },
        "id": "jII9JskrlZy0",
        "outputId": "75ab9a14-3f55-4e99-fbc4-e27df2eb09d8"
      },
      "execution_count": 25,
      "outputs": [
        {
          "output_type": "display_data",
          "data": {
            "text/plain": [
              "<Figure size 432x288 with 1 Axes>"
            ],
            "image/png": "[encoded data removed]"
          },
          "metadata": {
            "needs_background": "light"
          }
        }
      ]
    },
    {
      "cell_type": "code",
      "source": [
        "# removed skewness\n",
        "df[\"Budget\"]= np.sqrt(df[\"Budget\"])"
      ],
      "metadata": {
        "id": "Qt133Ai-mho1"
      },
      "execution_count": 26,
      "outputs": []
    },
    {
      "cell_type": "code",
      "source": [
        "# lets check for skewness in numeric feature\n",
        "sns.histplot(df[\"Budget\"],kde =True)\n",
        "plt.show()\n",
        "#so, now it seems better than previous distribution or skewness problem resolved"
      ],
      "metadata": {
        "colab": {
          "base_uri": "https://localhost:8080/",
          "height": 279
        },
        "id": "hUcyWhzxnTqe",
        "outputId": "b41cd883-f4c6-4a61-b13c-ff18bf8ef9f2"
      },
      "execution_count": 27,
      "outputs": [
        {
          "output_type": "display_data",
          "data": {
            "text/plain": [
              "<Figure size 432x288 with 1 Axes>"
            ],
            "image/png": "[encoded data removed]"
          },
          "metadata": {
            "needs_background": "light"
          }
        }
      ]
    },
    {
      "cell_type": "code",
      "source": [
        "#value counts of the budget columns\n",
        "df[\"Budget\"].value_counts()"
      ],
      "metadata": {
        "colab": {
          "base_uri": "https://localhost:8080/"
        },
        "id": "2VnrG5YMufNG",
        "outputId": "1f53ea53-2069-4497-cb75-753d1702aee5"
      },
      "execution_count": 28,
      "outputs": [
        {
          "output_type": "execute_result",
          "data": {
            "text/plain": [
              "10.000000    92\n",
              "7.071068     80\n",
              "4.472136     74\n",
              "3.162278     68\n",
              "5.477226     62\n",
              "             ..\n",
              "7.141428      1\n",
              "6.928203      1\n",
              "10.344080     1\n",
              "14.966630     1\n",
              "7.810250      1\n",
              "Name: Budget, Length: 144, dtype: int64"
            ]
          },
          "metadata": {},
          "execution_count": 28
        }
      ]
    },
    {
      "cell_type": "code",
      "source": [
        "# copy data in new variable \n",
        "data=df.copy()"
      ],
      "metadata": {
        "id": "EmLxZ98_5LfQ"
      },
      "execution_count": 29,
      "outputs": []
    },
    {
      "cell_type": "markdown",
      "source": [
        "# CLUSTERS OF THE PROJECTS"
      ],
      "metadata": {
        "id": "R8M9Qo_lvT3m"
      }
    },
    {
      "cell_type": "code",
      "source": [
        "# seen first five rowes \n",
        "data.head()"
      ],
      "metadata": {
        "colab": {
          "base_uri": "https://localhost:8080/",
          "height": 374
        },
        "id": "O62xNtHhvGCc",
        "outputId": "a82f6291-560d-46f6-c011-825a5be713b4"
      },
      "execution_count": 30,
      "outputs": [
        {
          "output_type": "execute_result",
          "data": {
            "text/plain": [
              "                 Category_Name         Experience    Sub_Category_Name  \\\n",
              "0     Technology & Programming          Entry ($)  Website Development   \n",
              "1  Marketing, Branding & Sales       Expert ($$$)        Sales & Calls   \n",
              "2        Writing & Translation          Entry ($)      Content Writing   \n",
              "3                       Design  Intermediate ($$)            3D Design   \n",
              "4     Technology & Programming          Entry ($)  Website Development   \n",
              "\n",
              "  Currency    Budget Location Freelancer_Preferred_From         Type  \\\n",
              "0      GBP  4.472136   remote                       ALL  fixed_price   \n",
              "1      GBP  5.000000   remote                       ALL       hourly   \n",
              "2      USD  5.477226   remote                       ALL  fixed_price   \n",
              "3      GBP  5.477226   remote                       ALL  fixed_price   \n",
              "4      GBP  4.472136   remote                       ALL       hourly   \n",
              "\n",
              "  Client_City  Client_Country Client_Currency  Day_Registraterd  Day_Posted  \n",
              "0   Tadcaster  United Kingdom             GBP                17          30  \n",
              "1   Ardrossan  United Kingdom             GBP                 5          30  \n",
              "2     Kolkata           India             USD                 8          30  \n",
              "3  Gloucester  United Kingdom             GBP                 2          30  \n",
              "4       Leeds  United Kingdom             GBP                11          30  "
            ],
            "text/html": [
              "\n",
              "  <div id=\"df-c3357dfd-5536-485e-a46f-8c34b1df0ca6\">\n",
              "    <div class=\"colab-df-container\">\n",
              "      <div>\n",
              "<style scoped>\n",
              "    .dataframe tbody tr th:only-of-type {\n",
              "        vertical-align: middle;\n",
              "    }\n",
              "\n",
              "    .dataframe tbody tr th {\n",
              "        vertical-align: top;\n",
              "    }\n",
              "\n",
              "    .dataframe thead th {\n",
              "        text-align: right;\n",
              "    }\n",
              "</style>\n",
              "<table border=\"1\" class=\"dataframe\">\n",
              "  <thead>\n",
              "    <tr style=\"text-align: right;\">\n",
              "      <th></th>\n",
              "      <th>Category_Name</th>\n",
              "      <th>Experience</th>\n",
              "      <th>Sub_Category_Name</th>\n",
              "      <th>Currency</th>\n",
              "      <th>Budget</th>\n",
              "      <th>Location</th>\n",
              "      <th>Freelancer_Preferred_From</th>\n",
              "      <th>Type</th>\n",
              "      <th>Client_City</th>\n",
              "      <th>Client_Country</th>\n",
              "      <th>Client_Currency</th>\n",
              "      <th>Day_Registraterd</th>\n",
              "      <th>Day_Posted</th>\n",
              "    </tr>\n",
              "  </thead>\n",
              "  <tbody>\n",
              "    <tr>\n",
              "      <th>0</th>\n",
              "      <td>Technology &amp; Programming</td>\n",
              "      <td>Entry ($)</td>\n",
              "      <td>Website Development</td>\n",
              "      <td>GBP</td>\n",
              "      <td>4.472136</td>\n",
              "      <td>remote</td>\n",
              "      <td>ALL</td>\n",
              "      <td>fixed_price</td>\n",
              "      <td>Tadcaster</td>\n",
              "      <td>United Kingdom</td>\n",
              "      <td>GBP</td>\n",
              "      <td>17</td>\n",
              "      <td>30</td>\n",
              "    </tr>\n",
              "    <tr>\n",
              "      <th>1</th>\n",
              "      <td>Marketing, Branding &amp; Sales</td>\n",
              "      <td>Expert ($$$)</td>\n",
              "      <td>Sales &amp; Calls</td>\n",
              "      <td>GBP</td>\n",
              "      <td>5.000000</td>\n",
              "      <td>remote</td>\n",
              "      <td>ALL</td>\n",
              "      <td>hourly</td>\n",
              "      <td>Ardrossan</td>\n",
              "      <td>United Kingdom</td>\n",
              "      <td>GBP</td>\n",
              "      <td>5</td>\n",
              "      <td>30</td>\n",
              "    </tr>\n",
              "    <tr>\n",
              "      <th>2</th>\n",
              "      <td>Writing &amp; Translation</td>\n",
              "      <td>Entry ($)</td>\n",
              "      <td>Content Writing</td>\n",
              "      <td>USD</td>\n",
              "      <td>5.477226</td>\n",
              "      <td>remote</td>\n",
              "      <td>ALL</td>\n",
              "      <td>fixed_price</td>\n",
              "      <td>Kolkata</td>\n",
              "      <td>India</td>\n",
              "      <td>USD</td>\n",
              "      <td>8</td>\n",
              "      <td>30</td>\n",
              "    </tr>\n",
              "    <tr>\n",
              "      <th>3</th>\n",
              "      <td>Design</td>\n",
              "      <td>Intermediate ($$)</td>\n",
              "      <td>3D Design</td>\n",
              "      <td>GBP</td>\n",
              "      <td>5.477226</td>\n",
              "      <td>remote</td>\n",
              "      <td>ALL</td>\n",
              "      <td>fixed_price</td>\n",
              "      <td>Gloucester</td>\n",
              "      <td>United Kingdom</td>\n",
              "      <td>GBP</td>\n",
              "      <td>2</td>\n",
              "      <td>30</td>\n",
              "    </tr>\n",
              "    <tr>\n",
              "      <th>4</th>\n",
              "      <td>Technology &amp; Programming</td>\n",
              "      <td>Entry ($)</td>\n",
              "      <td>Website Development</td>\n",
              "      <td>GBP</td>\n",
              "      <td>4.472136</td>\n",
              "      <td>remote</td>\n",
              "      <td>ALL</td>\n",
              "      <td>hourly</td>\n",
              "      <td>Leeds</td>\n",
              "      <td>United Kingdom</td>\n",
              "      <td>GBP</td>\n",
              "      <td>11</td>\n",
              "      <td>30</td>\n",
              "    </tr>\n",
              "  </tbody>\n",
              "</table>\n",
              "</div>\n",
              "      <button class=\"colab-df-convert\" onclick=\"convertToInteractive('df-c3357dfd-5536-485e-a46f-8c34b1df0ca6')\"\n",
              "              title=\"Convert this dataframe to an interactive table.\"\n",
              "              style=\"display:none;\">\n",
              "        \n",
              "  <svg xmlns=\"http://www.w3.org/2000/svg\" height=\"24px\"viewBox=\"0 0 24 24\"\n",
              "       width=\"24px\">\n",
              "    <path d=\"M0 0h24v24H0V0z\" fill=\"none\"/>\n",
              "    <path d=\"M18.56 5.44l.94 2.06.94-2.06 2.06-.94-2.06-.94-.94-2.06-.94 2.06-2.06.94zm-11 1L8.5 8.5l.94-2.06 2.06-.94-2.06-.94L8.5 2.5l-.94 2.06-2.06.94zm10 10l.94 2.06.94-2.06 2.06-.94-2.06-.94-.94-2.06-.94 2.06-2.06.94z\"/><path d=\"M17.41 7.96l-1.37-1.37c-.4-.4-.92-.59-1.43-.59-.52 0-1.04.2-1.43.59L10.3 9.45l-7.72 7.72c-.78.78-.78 2.05 0 2.83L4 21.41c.39.39.9.59 1.41.59.51 0 1.02-.2 1.41-.59l7.78-7.78 2.81-2.81c.8-.78.8-2.07 0-2.86zM5.41 20L4 18.59l7.72-7.72 1.47 1.35L5.41 20z\"/>\n",
              "  </svg>\n",
              "      </button>\n",
              "      \n",
              "  <style>\n",
              "    .colab-df-container {\n",
              "      display:flex;\n",
              "      flex-wrap:wrap;\n",
              "      gap: 12px;\n",
              "    }\n",
              "\n",
              "    .colab-df-convert {\n",
              "      background-color: #E8F0FE;\n",
              "      border: none;\n",
              "      border-radius: 50%;\n",
              "      cursor: pointer;\n",
              "      display: none;\n",
              "      fill: #1967D2;\n",
              "      height: 32px;\n",
              "      padding: 0 0 0 0;\n",
              "      width: 32px;\n",
              "    }\n",
              "\n",
              "    .colab-df-convert:hover {\n",
              "      background-color: #E2EBFA;\n",
              "      box-shadow: 0px 1px 2px rgba(60, 64, 67, 0.3), 0px 1px 3px 1px rgba(60, 64, 67, 0.15);\n",
              "      fill: #174EA6;\n",
              "    }\n",
              "\n",
              "    [theme=dark] .colab-df-convert {\n",
              "      background-color: #3B4455;\n",
              "      fill: #D2E3FC;\n",
              "    }\n",
              "\n",
              "    [theme=dark] .colab-df-convert:hover {\n",
              "      background-color: #434B5C;\n",
              "      box-shadow: 0px 1px 3px 1px rgba(0, 0, 0, 0.15);\n",
              "      filter: drop-shadow(0px 1px 2px rgba(0, 0, 0, 0.3));\n",
              "      fill: #FFFFFF;\n",
              "    }\n",
              "  </style>\n",
              "\n",
              "      <script>\n",
              "        const buttonEl =\n",
              "          document.querySelector('#df-c3357dfd-5536-485e-a46f-8c34b1df0ca6 button.colab-df-convert');\n",
              "        buttonEl.style.display =\n",
              "          google.colab.kernel.accessAllowed ? 'block' : 'none';\n",
              "\n",
              "        async function convertToInteractive(key) {\n",
              "          const element = document.querySelector('#df-c3357dfd-5536-485e-a46f-8c34b1df0ca6');\n",
              "          const dataTable =\n",
              "            await google.colab.kernel.invokeFunction('convertToInteractive',\n",
              "                                                     [key], {});\n",
              "          if (!dataTable) return;\n",
              "\n",
              "          const docLinkHtml = 'Like what you see? Visit the ' +\n",
              "            '<a target=\"_blank\" href=https://colab.research.google.com/notebooks/data_table.ipynb>data table notebook</a>'\n",
              "            + ' to learn more about interactive tables.';\n",
              "          element.innerHTML = '';\n",
              "          dataTable['output_type'] = 'display_data';\n",
              "          await google.colab.output.renderOutput(dataTable, element);\n",
              "          const docLink = document.createElement('div');\n",
              "          docLink.innerHTML = docLinkHtml;\n",
              "          element.appendChild(docLink);\n",
              "        }\n",
              "      </script>\n",
              "    </div>\n",
              "  </div>\n",
              "  "
            ]
          },
          "metadata": {},
          "execution_count": 30
        }
      ]
    },
    {
      "cell_type": "code",
      "source": [
        "# As we know any machine learning model only works on numeric data\n",
        "# so we will convert all categorical collumns into numerical data using \n",
        "#lable encoder of sklearn library \n",
        "\n",
        "from sklearn.preprocessing import LabelEncoder\n",
        "encoder = LabelEncoder()\n",
        "\n",
        "data['Category_Name']=encoder.fit_transform(data['Category_Name'])\n",
        "data['Experience']=encoder.fit_transform(data['Experience'])\n",
        "data['Sub_Category_Name']=encoder.fit_transform(data['Sub_Category_Name'])\n",
        "data['Currency']=encoder.fit_transform(data['Currency'])\n",
        "data['Location']=encoder.fit_transform(data['Location'])\n",
        "data['Freelancer_Preferred_From']=encoder.fit_transform(data['Freelancer_Preferred_From'])\n",
        "data['Type']=encoder.fit_transform(data['Type'])\n",
        "data['Client_City']=encoder.fit_transform(data['Client_City'])\n",
        "data['Client_Country']=encoder.fit_transform(data['Client_Country'])\n",
        "data['Client_Currency']=encoder.fit_transform(data['Client_Currency'])\n",
        "\n",
        "data.head()"
      ],
      "metadata": {
        "colab": {
          "base_uri": "https://localhost:8080/",
          "height": 270
        },
        "id": "HIem4oBbvfsl",
        "outputId": "5e20d5ff-f1ea-44da-eeff-a8a5037566e0"
      },
      "execution_count": 31,
      "outputs": [
        {
          "output_type": "execute_result",
          "data": {
            "text/plain": [
              "   Category_Name  Experience  Sub_Category_Name  Currency    Budget  Location  \\\n",
              "0              6           0                 85         1  4.472136         1   \n",
              "1              3           1                 67         1  5.000000         1   \n",
              "2              8           0                 21         2  5.477226         1   \n",
              "3              1           2                  0         1  5.477226         1   \n",
              "4              6           0                 85         1  4.472136         1   \n",
              "\n",
              "   Freelancer_Preferred_From  Type  Client_City  Client_Country  \\\n",
              "0                          0     0          423              66   \n",
              "1                          0     1           14              66   \n",
              "2                          0     0          224              25   \n",
              "3                          0     0          160              66   \n",
              "4                          0     1          238              66   \n",
              "\n",
              "   Client_Currency  Day_Registraterd  Day_Posted  \n",
              "0                1                17          30  \n",
              "1                1                 5          30  \n",
              "2                2                 8          30  \n",
              "3                1                 2          30  \n",
              "4                1                11          30  "
            ],
            "text/html": [
              "\n",
              "  <div id=\"df-2f9a6166-300f-434e-be2e-705a1b7b563b\">\n",
              "    <div class=\"colab-df-container\">\n",
              "      <div>\n",
              "<style scoped>\n",
              "    .dataframe tbody tr th:only-of-type {\n",
              "        vertical-align: middle;\n",
              "    }\n",
              "\n",
              "    .dataframe tbody tr th {\n",
              "        vertical-align: top;\n",
              "    }\n",
              "\n",
              "    .dataframe thead th {\n",
              "        text-align: right;\n",
              "    }\n",
              "</style>\n",
              "<table border=\"1\" class=\"dataframe\">\n",
              "  <thead>\n",
              "    <tr style=\"text-align: right;\">\n",
              "      <th></th>\n",
              "      <th>Category_Name</th>\n",
              "      <th>Experience</th>\n",
              "      <th>Sub_Category_Name</th>\n",
              "      <th>Currency</th>\n",
              "      <th>Budget</th>\n",
              "      <th>Location</th>\n",
              "      <th>Freelancer_Preferred_From</th>\n",
              "      <th>Type</th>\n",
              "      <th>Client_City</th>\n",
              "      <th>Client_Country</th>\n",
              "      <th>Client_Currency</th>\n",
              "      <th>Day_Registraterd</th>\n",
              "      <th>Day_Posted</th>\n",
              "    </tr>\n",
              "  </thead>\n",
              "  <tbody>\n",
              "    <tr>\n",
              "      <th>0</th>\n",
              "      <td>6</td>\n",
              "      <td>0</td>\n",
              "      <td>85</td>\n",
              "      <td>1</td>\n",
              "      <td>4.472136</td>\n",
              "      <td>1</td>\n",
              "      <td>0</td>\n",
              "      <td>0</td>\n",
              "      <td>423</td>\n",
              "      <td>66</td>\n",
              "      <td>1</td>\n",
              "      <td>17</td>\n",
              "      <td>30</td>\n",
              "    </tr>\n",
              "    <tr>\n",
              "      <th>1</th>\n",
              "      <td>3</td>\n",
              "      <td>1</td>\n",
              "      <td>67</td>\n",
              "      <td>1</td>\n",
              "      <td>5.000000</td>\n",
              "      <td>1</td>\n",
              "      <td>0</td>\n",
              "      <td>1</td>\n",
              "      <td>14</td>\n",
              "      <td>66</td>\n",
              "      <td>1</td>\n",
              "      <td>5</td>\n",
              "      <td>30</td>\n",
              "    </tr>\n",
              "    <tr>\n",
              "      <th>2</th>\n",
              "      <td>8</td>\n",
              "      <td>0</td>\n",
              "      <td>21</td>\n",
              "      <td>2</td>\n",
              "      <td>5.477226</td>\n",
              "      <td>1</td>\n",
              "      <td>0</td>\n",
              "      <td>0</td>\n",
              "      <td>224</td>\n",
              "      <td>25</td>\n",
              "      <td>2</td>\n",
              "      <td>8</td>\n",
              "      <td>30</td>\n",
              "    </tr>\n",
              "    <tr>\n",
              "      <th>3</th>\n",
              "      <td>1</td>\n",
              "      <td>2</td>\n",
              "      <td>0</td>\n",
              "      <td>1</td>\n",
              "      <td>5.477226</td>\n",
              "      <td>1</td>\n",
              "      <td>0</td>\n",
              "      <td>0</td>\n",
              "      <td>160</td>\n",
              "      <td>66</td>\n",
              "      <td>1</td>\n",
              "      <td>2</td>\n",
              "      <td>30</td>\n",
              "    </tr>\n",
              "    <tr>\n",
              "      <th>4</th>\n",
              "      <td>6</td>\n",
              "      <td>0</td>\n",
              "      <td>85</td>\n",
              "      <td>1</td>\n",
              "      <td>4.472136</td>\n",
              "      <td>1</td>\n",
              "      <td>0</td>\n",
              "      <td>1</td>\n",
              "      <td>238</td>\n",
              "      <td>66</td>\n",
              "      <td>1</td>\n",
              "      <td>11</td>\n",
              "      <td>30</td>\n",
              "    </tr>\n",
              "  </tbody>\n",
              "</table>\n",
              "</div>\n",
              "      <button class=\"colab-df-convert\" onclick=\"convertToInteractive('df-2f9a6166-300f-434e-be2e-705a1b7b563b')\"\n",
              "              title=\"Convert this dataframe to an interactive table.\"\n",
              "              style=\"display:none;\">\n",
              "        \n",
              "  <svg xmlns=\"http://www.w3.org/2000/svg\" height=\"24px\"viewBox=\"0 0 24 24\"\n",
              "       width=\"24px\">\n",
              "    <path d=\"M0 0h24v24H0V0z\" fill=\"none\"/>\n",
              "    <path d=\"M18.56 5.44l.94 2.06.94-2.06 2.06-.94-2.06-.94-.94-2.06-.94 2.06-2.06.94zm-11 1L8.5 8.5l.94-2.06 2.06-.94-2.06-.94L8.5 2.5l-.94 2.06-2.06.94zm10 10l.94 2.06.94-2.06 2.06-.94-2.06-.94-.94-2.06-.94 2.06-2.06.94z\"/><path d=\"M17.41 7.96l-1.37-1.37c-.4-.4-.92-.59-1.43-.59-.52 0-1.04.2-1.43.59L10.3 9.45l-7.72 7.72c-.78.78-.78 2.05 0 2.83L4 21.41c.39.39.9.59 1.41.59.51 0 1.02-.2 1.41-.59l7.78-7.78 2.81-2.81c.8-.78.8-2.07 0-2.86zM5.41 20L4 18.59l7.72-7.72 1.47 1.35L5.41 20z\"/>\n",
              "  </svg>\n",
              "      </button>\n",
              "      \n",
              "  <style>\n",
              "    .colab-df-container {\n",
              "      display:flex;\n",
              "      flex-wrap:wrap;\n",
              "      gap: 12px;\n",
              "    }\n",
              "\n",
              "    .colab-df-convert {\n",
              "      background-color: #E8F0FE;\n",
              "      border: none;\n",
              "      border-radius: 50%;\n",
              "      cursor: pointer;\n",
              "      display: none;\n",
              "      fill: #1967D2;\n",
              "      height: 32px;\n",
              "      padding: 0 0 0 0;\n",
              "      width: 32px;\n",
              "    }\n",
              "\n",
              "    .colab-df-convert:hover {\n",
              "      background-color: #E2EBFA;\n",
              "      box-shadow: 0px 1px 2px rgba(60, 64, 67, 0.3), 0px 1px 3px 1px rgba(60, 64, 67, 0.15);\n",
              "      fill: #174EA6;\n",
              "    }\n",
              "\n",
              "    [theme=dark] .colab-df-convert {\n",
              "      background-color: #3B4455;\n",
              "      fill: #D2E3FC;\n",
              "    }\n",
              "\n",
              "    [theme=dark] .colab-df-convert:hover {\n",
              "      background-color: #434B5C;\n",
              "      box-shadow: 0px 1px 3px 1px rgba(0, 0, 0, 0.15);\n",
              "      filter: drop-shadow(0px 1px 2px rgba(0, 0, 0, 0.3));\n",
              "      fill: #FFFFFF;\n",
              "    }\n",
              "  </style>\n",
              "\n",
              "      <script>\n",
              "        const buttonEl =\n",
              "          document.querySelector('#df-2f9a6166-300f-434e-be2e-705a1b7b563b button.colab-df-convert');\n",
              "        buttonEl.style.display =\n",
              "          google.colab.kernel.accessAllowed ? 'block' : 'none';\n",
              "\n",
              "        async function convertToInteractive(key) {\n",
              "          const element = document.querySelector('#df-2f9a6166-300f-434e-be2e-705a1b7b563b');\n",
              "          const dataTable =\n",
              "            await google.colab.kernel.invokeFunction('convertToInteractive',\n",
              "                                                     [key], {});\n",
              "          if (!dataTable) return;\n",
              "\n",
              "          const docLinkHtml = 'Like what you see? Visit the ' +\n",
              "            '<a target=\"_blank\" href=https://colab.research.google.com/notebooks/data_table.ipynb>data table notebook</a>'\n",
              "            + ' to learn more about interactive tables.';\n",
              "          element.innerHTML = '';\n",
              "          dataTable['output_type'] = 'display_data';\n",
              "          await google.colab.output.renderOutput(dataTable, element);\n",
              "          const docLink = document.createElement('div');\n",
              "          docLink.innerHTML = docLinkHtml;\n",
              "          element.appendChild(docLink);\n",
              "        }\n",
              "      </script>\n",
              "    </div>\n",
              "  </div>\n",
              "  "
            ]
          },
          "metadata": {},
          "execution_count": 31
        }
      ]
    },
    {
      "cell_type": "markdown",
      "source": [
        "# KMeans Clustering"
      ],
      "metadata": {
        "id": "mICqK1dIyOKk"
      }
    },
    {
      "cell_type": "code",
      "source": [
        "# we will create clusters of the projects by applying KMeans cluster\n",
        "x = data.iloc[:,[0,4]].values"
      ],
      "metadata": {
        "id": "zUMNEfIMw46r"
      },
      "execution_count": 32,
      "outputs": []
    },
    {
      "cell_type": "code",
      "source": [
        "from sklearn.cluster import KMeans\n",
        "wcss_list = []\n",
        "for i in range(1,11):\n",
        "    k=KMeans(n_clusters=i,random_state=1)\n",
        "    k.fit(x)\n",
        "    wcss_list.append(k.inertia_)\n"
      ],
      "metadata": {
        "id": "S_b2xzJtzS8i"
      },
      "execution_count": 33,
      "outputs": []
    },
    {
      "cell_type": "code",
      "source": [
        "wcss_list"
      ],
      "metadata": {
        "colab": {
          "base_uri": "https://localhost:8080/"
        },
        "id": "VODd9SRS3OWa",
        "outputId": "d5040a9e-79af-459e-dc4d-82a84a9002b3"
      },
      "execution_count": 34,
      "outputs": [
        {
          "output_type": "execute_result",
          "data": {
            "text/plain": [
              "[28693.522207384212,\n",
              " 16099.4780439866,\n",
              " 9819.800315813207,\n",
              " 6603.213288162871,\n",
              " 4791.114053973585,\n",
              " 3452.5171314843446,\n",
              " 2930.7367704985536,\n",
              " 2435.755121342262,\n",
              " 2185.7381913847416,\n",
              " 1935.81144524291]"
            ]
          },
          "metadata": {},
          "execution_count": 34
        }
      ]
    },
    {
      "cell_type": "code",
      "source": [
        "# for declaration of optimum values for number of clusters lets plot the elbow method\n",
        "# the first sharp bent will give the best value for number of clusters\n",
        "plt.plot(range(1,11),wcss_list,\"o-\")\n",
        "plt.title(\"Elbo Visualization\")\n",
        "plt.xlabel(\"n_clusters\")\n",
        "plt.ylabel(\"wcss_values\")\n",
        "plt.grid()\n",
        "plt.show()"
      ],
      "metadata": {
        "colab": {
          "base_uri": "https://localhost:8080/",
          "height": 296
        },
        "id": "IoEaGoba3QG5",
        "outputId": "62777b8e-4429-41c5-d584-f2262ca02c85"
      },
      "execution_count": 35,
      "outputs": [
        {
          "output_type": "display_data",
          "data": {
            "text/plain": [
              "<Figure size 432x288 with 1 Axes>"
            ],
            "image/png": "[encoded data removed]"
          },
          "metadata": {
            "needs_background": "light"
          }
        }
      ]
    },
    {
      "cell_type": "code",
      "source": [
        "model= KMeans(n_clusters=4,random_state=1)\n",
        "pred=model.fit_predict(x)\n",
        "\n",
        "pred[:5]"
      ],
      "metadata": {
        "colab": {
          "base_uri": "https://localhost:8080/"
        },
        "id": "vJaRoAnJ3TeZ",
        "outputId": "48de10f3-d2da-439b-c19b-fc49d8ddc6eb"
      },
      "execution_count": 36,
      "outputs": [
        {
          "output_type": "execute_result",
          "data": {
            "text/plain": [
              "array([2, 0, 2, 0, 2], dtype=int32)"
            ]
          },
          "metadata": {},
          "execution_count": 36
        }
      ]
    },
    {
      "cell_type": "code",
      "source": [
        "model.cluster_centers_"
      ],
      "metadata": {
        "colab": {
          "base_uri": "https://localhost:8080/"
        },
        "id": "fquXi8x-3nrN",
        "outputId": "6b723f5b-7eba-4806-a8a4-b43139b407c7"
      },
      "execution_count": 37,
      "outputs": [
        {
          "output_type": "execute_result",
          "data": {
            "text/plain": [
              "array([[ 0.97050147,  5.34578602],\n",
              "       [ 6.39545455, 13.10219456],\n",
              "       [ 6.49575071,  5.76758142],\n",
              "       [ 1.24462366, 11.0157424 ]])"
            ]
          },
          "metadata": {},
          "execution_count": 37
        }
      ]
    },
    {
      "cell_type": "code",
      "source": [
        "# plot cluster of the frelancer projects\n",
        "plt.figure(figsize = (10,6))\n",
        "plt.scatter(x[pred==0,0], x[pred== 0,1], s = 100, c= \"cyan\", label = \"cluster 1\")\n",
        "plt.scatter(x[pred==1,0], x[pred== 1,1], s = 150, c= \"green\", label = \"cluster 2\")\n",
        "plt.scatter(x[pred==2,0], x[pred== 2,1], s = 50, c= \"red\", label = \"cluster 3\")\n",
        "plt.scatter(x[pred==3,0], x[pred== 3,1], s = 100, c= \"blue\", label = \"cluster 4\")\n",
        "plt.scatter(model.cluster_centers_[:,0],\n",
        "            model.cluster_centers_[:,1],s=200,c=\"yellow\",\n",
        "            label=\"cluster centroids\")\n",
        "plt.xlabel(\"Project Categories\",fontsize = 12)\n",
        "plt.ylabel(\"Budget of the project\",fontsize = 12)\n",
        "plt.title(\"clusters of the freelancer projects\", fontsize =15)\n",
        "plt.legend(loc =\"lower right\")\n",
        "plt.show()"
      ],
      "metadata": {
        "id": "AjEupn4w8H_2",
        "colab": {
          "base_uri": "https://localhost:8080/",
          "height": 409
        },
        "outputId": "986945db-eff5-461b-fdfa-6f3175ebc414"
      },
      "execution_count": 38,
      "outputs": [
        {
          "output_type": "display_data",
          "data": {
            "text/plain": [
              "<Figure size 720x432 with 1 Axes>"
            ],
            "image/png": "[encoded data removed]"
          },
          "metadata": {
            "needs_background": "light"
          }
        }
      ]
    },
    {
      "cell_type": "code",
      "source": [
        "# lets do principal components analysis\n",
        "# by setting number of components to 2\n",
        "# then we will create clusters of projects on that components"
      ],
      "metadata": {
        "id": "WxsjjZMvmEV0"
      },
      "execution_count": 39,
      "outputs": []
    },
    {
      "cell_type": "code",
      "source": [
        "# import PCA from sklearn \n",
        "from sklearn.decomposition import PCA\n",
        "pca = PCA(n_components = 2)\n",
        "data_t = pca.fit_transform(data)"
      ],
      "metadata": {
        "id": "myYbgKSdmwHW"
      },
      "execution_count": 40,
      "outputs": []
    },
    {
      "cell_type": "code",
      "source": [
        "# import KMeans \n",
        "from sklearn.cluster import KMeans\n",
        "wcss_list = []\n",
        "for i in range(1,11):\n",
        "    k=KMeans(n_clusters=i)\n",
        "    k.fit(data_t)\n",
        "    wcss_list.append(k.inertia_)\n",
        "wcss_list"
      ],
      "metadata": {
        "colab": {
          "base_uri": "https://localhost:8080/"
        },
        "id": "wKSLtGeEnUJ2",
        "outputId": "3baf3234-1126-493d-a151-f298ced5e5bc"
      },
      "execution_count": 41,
      "outputs": [
        {
          "output_type": "execute_result",
          "data": {
            "text/plain": [
              "[21135523.091049112,\n",
              " 7106857.786223913,\n",
              " 2879890.0690957466,\n",
              " 2191150.8217724524,\n",
              " 1684594.1970001133,\n",
              " 1434400.0452346,\n",
              " 1225513.691999949,\n",
              " 1061958.2886391743,\n",
              " 946363.294774897,\n",
              " 849019.634962384]"
            ]
          },
          "metadata": {},
          "execution_count": 41
        }
      ]
    },
    {
      "cell_type": "code",
      "source": [
        "# create elbo visualization for easily find cluster\n",
        "plt.plot(range(1,11),wcss_list,\"o-\")\n",
        "plt.title(\"Elbo Visualization\")\n",
        "plt.xlabel(\"n_clusters\")\n",
        "plt.ylabel(\"wcss_values\")\n",
        "plt.grid()\n",
        "plt.show()"
      ],
      "metadata": {
        "colab": {
          "base_uri": "https://localhost:8080/",
          "height": 296
        },
        "id": "8Jf7WEfUnUGc",
        "outputId": "1dfecb46-cf5c-49f7-9183-1c9dd9da0b9a"
      },
      "execution_count": 42,
      "outputs": [
        {
          "output_type": "display_data",
          "data": {
            "text/plain": [
              "<Figure size 432x288 with 1 Axes>"
            ],
            "image/png": "[encoded data removed]"
          },
          "metadata": {
            "needs_background": "light"
          }
        }
      ]
    },
    {
      "cell_type": "code",
      "source": [
        "# fit model \n",
        "model= KMeans(n_clusters=3)\n",
        "pred=model.fit_predict(data_t)\n",
        "\n",
        "pred[:5]"
      ],
      "metadata": {
        "colab": {
          "base_uri": "https://localhost:8080/"
        },
        "id": "XdkhoEHnnxzo",
        "outputId": "c4246126-896c-42e2-a2af-bd5a5fe8299d"
      },
      "execution_count": 43,
      "outputs": [
        {
          "output_type": "execute_result",
          "data": {
            "text/plain": [
              "array([2, 1, 0, 1, 0], dtype=int32)"
            ]
          },
          "metadata": {},
          "execution_count": 43
        }
      ]
    },
    {
      "cell_type": "code",
      "source": [
        "# plot cluster \n",
        "plt.figure(figsize = (10,6))\n",
        "plt.scatter(data_t[pred==0,0], data_t[pred== 0,1], s = 100, c= \"cyan\", label = \"cluster 1\")\n",
        "plt.scatter(data_t[pred==1,0], data_t[pred== 1,1], s = 150, c= \"green\", label = \"cluster 2\")\n",
        "plt.scatter(data_t[pred==2,0], data_t[pred== 2,1], s = 50, c= \"red\", label = \"cluster 3\")\n",
        "plt.scatter(data_t[pred==3,0], data_t[pred== 3,1], s = 100, c= \"blue\", label = \"cluster 4\")\n",
        "plt.scatter(model.cluster_centers_[:,0],\n",
        "            model.cluster_centers_[:,1],s=200,c=\"yellow\",\n",
        "            label=\"cluster centroids\")\n",
        "plt.xlabel(\"Project Categories\",fontsize = 12)\n",
        "plt.ylabel(\"Budget of the project\",fontsize = 12)\n",
        "plt.title(\"clusters of the freelancer projects\", fontsize =15)\n",
        "plt.legend(loc =\"lower right\")\n",
        "plt.show()"
      ],
      "metadata": {
        "colab": {
          "base_uri": "https://localhost:8080/",
          "height": 409
        },
        "id": "oeba78YRn-0X",
        "outputId": "13719958-7bef-4217-cf89-898f32efe9f6"
      },
      "execution_count": 44,
      "outputs": [
        {
          "output_type": "display_data",
          "data": {
            "text/plain": [
              "<Figure size 720x432 with 1 Axes>"
            ],
            "image/png": "[encoded data removed]"
          },
          "metadata": {
            "needs_background": "light"
          }
        }
      ]
    },
    {
      "cell_type": "markdown",
      "source": [
        "# Regression model for Budget prediction"
      ],
      "metadata": {
        "id": "QXBG4mi0pYYM"
      }
    },
    {
      "cell_type": "code",
      "source": [
        "# now, before creating the model it is very important to check for multicolinearity\n",
        "sns.heatmap(data.corr())"
      ],
      "metadata": {
        "colab": {
          "base_uri": "https://localhost:8080/",
          "height": 409
        },
        "id": "VXVu1A6kplmq",
        "outputId": "1c15d5cf-3b1e-441f-e32b-2d01e174c756"
      },
      "execution_count": 45,
      "outputs": [
        {
          "output_type": "execute_result",
          "data": {
            "text/plain": [
              "<Axes: >"
            ]
          },
          "metadata": {},
          "execution_count": 45
        },
        {
          "output_type": "display_data",
          "data": {
            "text/plain": [
              "<Figure size 432x288 with 2 Axes>"
            ],
            "image/png": "[encoded data removed]"
          },
          "metadata": {
            "needs_background": "light"
          }
        }
      ]
    },
    {
      "cell_type": "code",
      "source": [
        "# As there is positive correlation between independent \n",
        "#variables we will delete one of them\n",
        "data2=data.drop(data[[\"Currency\",\"Category_Name\"]], axis = 1)"
      ],
      "metadata": {
        "id": "wOCF-3htp_8C"
      },
      "execution_count": 46,
      "outputs": []
    },
    {
      "cell_type": "code",
      "source": [
        "data2.head()"
      ],
      "metadata": {
        "colab": {
          "base_uri": "https://localhost:8080/",
          "height": 270
        },
        "id": "z1ncp8F0rJJW",
        "outputId": "ca0b8921-3861-44b3-d3c9-38c9f65d86f5"
      },
      "execution_count": 47,
      "outputs": [
        {
          "output_type": "execute_result",
          "data": {
            "text/plain": [
              "   Experience  Sub_Category_Name    Budget  Location  \\\n",
              "0           0                 85  4.472136         1   \n",
              "1           1                 67  5.000000         1   \n",
              "2           0                 21  5.477226         1   \n",
              "3           2                  0  5.477226         1   \n",
              "4           0                 85  4.472136         1   \n",
              "\n",
              "   Freelancer_Preferred_From  Type  Client_City  Client_Country  \\\n",
              "0                          0     0          423              66   \n",
              "1                          0     1           14              66   \n",
              "2                          0     0          224              25   \n",
              "3                          0     0          160              66   \n",
              "4                          0     1          238              66   \n",
              "\n",
              "   Client_Currency  Day_Registraterd  Day_Posted  \n",
              "0                1                17          30  \n",
              "1                1                 5          30  \n",
              "2                2                 8          30  \n",
              "3                1                 2          30  \n",
              "4                1                11          30  "
            ],
            "text/html": [
              "\n",
              "  <div id=\"df-fd8c2a51-4b69-4996-8397-ff5f1d8ef76b\">\n",
              "    <div class=\"colab-df-container\">\n",
              "      <div>\n",
              "<style scoped>\n",
              "    .dataframe tbody tr th:only-of-type {\n",
              "        vertical-align: middle;\n",
              "    }\n",
              "\n",
              "    .dataframe tbody tr th {\n",
              "        vertical-align: top;\n",
              "    }\n",
              "\n",
              "    .dataframe thead th {\n",
              "        text-align: right;\n",
              "    }\n",
              "</style>\n",
              "<table border=\"1\" class=\"dataframe\">\n",
              "  <thead>\n",
              "    <tr style=\"text-align: right;\">\n",
              "      <th></th>\n",
              "      <th>Experience</th>\n",
              "      <th>Sub_Category_Name</th>\n",
              "      <th>Budget</th>\n",
              "      <th>Location</th>\n",
              "      <th>Freelancer_Preferred_From</th>\n",
              "      <th>Type</th>\n",
              "      <th>Client_City</th>\n",
              "      <th>Client_Country</th>\n",
              "      <th>Client_Currency</th>\n",
              "      <th>Day_Registraterd</th>\n",
              "      <th>Day_Posted</th>\n",
              "    </tr>\n",
              "  </thead>\n",
              "  <tbody>\n",
              "    <tr>\n",
              "      <th>0</th>\n",
              "      <td>0</td>\n",
              "      <td>85</td>\n",
              "      <td>4.472136</td>\n",
              "      <td>1</td>\n",
              "      <td>0</td>\n",
              "      <td>0</td>\n",
              "      <td>423</td>\n",
              "      <td>66</td>\n",
              "      <td>1</td>\n",
              "      <td>17</td>\n",
              "      <td>30</td>\n",
              "    </tr>\n",
              "    <tr>\n",
              "      <th>1</th>\n",
              "      <td>1</td>\n",
              "      <td>67</td>\n",
              "      <td>5.000000</td>\n",
              "      <td>1</td>\n",
              "      <td>0</td>\n",
              "      <td>1</td>\n",
              "      <td>14</td>\n",
              "      <td>66</td>\n",
              "      <td>1</td>\n",
              "      <td>5</td>\n",
              "      <td>30</td>\n",
              "    </tr>\n",
              "    <tr>\n",
              "      <th>2</th>\n",
              "      <td>0</td>\n",
              "      <td>21</td>\n",
              "      <td>5.477226</td>\n",
              "      <td>1</td>\n",
              "      <td>0</td>\n",
              "      <td>0</td>\n",
              "      <td>224</td>\n",
              "      <td>25</td>\n",
              "      <td>2</td>\n",
              "      <td>8</td>\n",
              "      <td>30</td>\n",
              "    </tr>\n",
              "    <tr>\n",
              "      <th>3</th>\n",
              "      <td>2</td>\n",
              "      <td>0</td>\n",
              "      <td>5.477226</td>\n",
              "      <td>1</td>\n",
              "      <td>0</td>\n",
              "      <td>0</td>\n",
              "      <td>160</td>\n",
              "      <td>66</td>\n",
              "      <td>1</td>\n",
              "      <td>2</td>\n",
              "      <td>30</td>\n",
              "    </tr>\n",
              "    <tr>\n",
              "      <th>4</th>\n",
              "      <td>0</td>\n",
              "      <td>85</td>\n",
              "      <td>4.472136</td>\n",
              "      <td>1</td>\n",
              "      <td>0</td>\n",
              "      <td>1</td>\n",
              "      <td>238</td>\n",
              "      <td>66</td>\n",
              "      <td>1</td>\n",
              "      <td>11</td>\n",
              "      <td>30</td>\n",
              "    </tr>\n",
              "  </tbody>\n",
              "</table>\n",
              "</div>\n",
              "      <button class=\"colab-df-convert\" onclick=\"convertToInteractive('df-fd8c2a51-4b69-4996-8397-ff5f1d8ef76b')\"\n",
              "              title=\"Convert this dataframe to an interactive table.\"\n",
              "              style=\"display:none;\">\n",
              "        \n",
              "  <svg xmlns=\"http://www.w3.org/2000/svg\" height=\"24px\"viewBox=\"0 0 24 24\"\n",
              "       width=\"24px\">\n",
              "    <path d=\"M0 0h24v24H0V0z\" fill=\"none\"/>\n",
              "    <path d=\"M18.56 5.44l.94 2.06.94-2.06 2.06-.94-2.06-.94-.94-2.06-.94 2.06-2.06.94zm-11 1L8.5 8.5l.94-2.06 2.06-.94-2.06-.94L8.5 2.5l-.94 2.06-2.06.94zm10 10l.94 2.06.94-2.06 2.06-.94-2.06-.94-.94-2.06-.94 2.06-2.06.94z\"/><path d=\"M17.41 7.96l-1.37-1.37c-.4-.4-.92-.59-1.43-.59-.52 0-1.04.2-1.43.59L10.3 9.45l-7.72 7.72c-.78.78-.78 2.05 0 2.83L4 21.41c.39.39.9.59 1.41.59.51 0 1.02-.2 1.41-.59l7.78-7.78 2.81-2.81c.8-.78.8-2.07 0-2.86zM5.41 20L4 18.59l7.72-7.72 1.47 1.35L5.41 20z\"/>\n",
              "  </svg>\n",
              "      </button>\n",
              "      \n",
              "  <style>\n",
              "    .colab-df-container {\n",
              "      display:flex;\n",
              "      flex-wrap:wrap;\n",
              "      gap: 12px;\n",
              "    }\n",
              "\n",
              "    .colab-df-convert {\n",
              "      background-color: #E8F0FE;\n",
              "      border: none;\n",
              "      border-radius: 50%;\n",
              "      cursor: pointer;\n",
              "      display: none;\n",
              "      fill: #1967D2;\n",
              "      height: 32px;\n",
              "      padding: 0 0 0 0;\n",
              "      width: 32px;\n",
              "    }\n",
              "\n",
              "    .colab-df-convert:hover {\n",
              "      background-color: #E2EBFA;\n",
              "      box-shadow: 0px 1px 2px rgba(60, 64, 67, 0.3), 0px 1px 3px 1px rgba(60, 64, 67, 0.15);\n",
              "      fill: #174EA6;\n",
              "    }\n",
              "\n",
              "    [theme=dark] .colab-df-convert {\n",
              "      background-color: #3B4455;\n",
              "      fill: #D2E3FC;\n",
              "    }\n",
              "\n",
              "    [theme=dark] .colab-df-convert:hover {\n",
              "      background-color: #434B5C;\n",
              "      box-shadow: 0px 1px 3px 1px rgba(0, 0, 0, 0.15);\n",
              "      filter: drop-shadow(0px 1px 2px rgba(0, 0, 0, 0.3));\n",
              "      fill: #FFFFFF;\n",
              "    }\n",
              "  </style>\n",
              "\n",
              "      <script>\n",
              "        const buttonEl =\n",
              "          document.querySelector('#df-fd8c2a51-4b69-4996-8397-ff5f1d8ef76b button.colab-df-convert');\n",
              "        buttonEl.style.display =\n",
              "          google.colab.kernel.accessAllowed ? 'block' : 'none';\n",
              "\n",
              "        async function convertToInteractive(key) {\n",
              "          const element = document.querySelector('#df-fd8c2a51-4b69-4996-8397-ff5f1d8ef76b');\n",
              "          const dataTable =\n",
              "            await google.colab.kernel.invokeFunction('convertToInteractive',\n",
              "                                                     [key], {});\n",
              "          if (!dataTable) return;\n",
              "\n",
              "          const docLinkHtml = 'Like what you see? Visit the ' +\n",
              "            '<a target=\"_blank\" href=https://colab.research.google.com/notebooks/data_table.ipynb>data table notebook</a>'\n",
              "            + ' to learn more about interactive tables.';\n",
              "          element.innerHTML = '';\n",
              "          dataTable['output_type'] = 'display_data';\n",
              "          await google.colab.output.renderOutput(dataTable, element);\n",
              "          const docLink = document.createElement('div');\n",
              "          docLink.innerHTML = docLinkHtml;\n",
              "          element.appendChild(docLink);\n",
              "        }\n",
              "      </script>\n",
              "    </div>\n",
              "  </div>\n",
              "  "
            ]
          },
          "metadata": {},
          "execution_count": 47
        }
      ]
    },
    {
      "cell_type": "markdown",
      "source": [
        "# Creating Model"
      ],
      "metadata": {
        "id": "z5sEVGbRPPWg"
      }
    },
    {
      "cell_type": "code",
      "source": [
        "# spliting of data into x and y\n",
        "x = data2.iloc[:,[0,1,3,4,5,6,7,8,9,10]]\n",
        "y = data2.iloc[:,2]"
      ],
      "metadata": {
        "id": "BaLND2NUrM0H"
      },
      "execution_count": 48,
      "outputs": []
    },
    {
      "cell_type": "code",
      "source": [
        "# spliting of data into training and testing \n",
        "from sklearn.model_selection import train_test_split\n",
        "xtrain,xtest,ytrain,ytest=train_test_split(x,y,test_size=0.3,random_state=1)"
      ],
      "metadata": {
        "id": "Yj28GA5Tt9zS"
      },
      "execution_count": 49,
      "outputs": []
    },
    {
      "cell_type": "code",
      "source": [
        "# import linear regression model \n",
        "from sklearn.linear_model import LinearRegression"
      ],
      "metadata": {
        "id": "Que-Ct5zxJTH"
      },
      "execution_count": 50,
      "outputs": []
    },
    {
      "cell_type": "code",
      "source": [
        "model = LinearRegression()\n",
        "model.fit(xtrain,ytrain)\n",
        "ypred = model.predict(xtest)\n",
        "ypred[:5]\n"
      ],
      "metadata": {
        "colab": {
          "base_uri": "https://localhost:8080/"
        },
        "id": "mCNTwFZzxuvX",
        "outputId": "dce8d481-eb9f-4994-a6b8-173e4529e0b9"
      },
      "execution_count": 51,
      "outputs": [
        {
          "output_type": "execute_result",
          "data": {
            "text/plain": [
              "array([ 3.39883875, 10.07251734, 12.4017395 ,  9.77291176,  9.83979094])"
            ]
          },
          "metadata": {},
          "execution_count": 51
        }
      ]
    },
    {
      "cell_type": "code",
      "source": [
        "ytest[:5]"
      ],
      "metadata": {
        "colab": {
          "base_uri": "https://localhost:8080/"
        },
        "id": "Gdz2WmAfy0pY",
        "outputId": "65633ce4-5dfc-41b5-f9f6-a68d26c5adf2"
      },
      "execution_count": 52,
      "outputs": [
        {
          "output_type": "execute_result",
          "data": {
            "text/plain": [
              "303     3.162278\n",
              "355    13.964240\n",
              "452     2.449490\n",
              "259     9.486833\n",
              "789    10.723805\n",
              "Name: Budget, dtype: float64"
            ]
          },
          "metadata": {},
          "execution_count": 52
        }
      ]
    },
    {
      "cell_type": "code",
      "source": [
        "# import ResidualsPlot for observation \n",
        "from yellowbrick.regressor import ResidualsPlot"
      ],
      "metadata": {
        "id": "Jstf_UEUzCC0"
      },
      "execution_count": 53,
      "outputs": []
    },
    {
      "cell_type": "code",
      "source": [
        "residuals_vis = ResidualsPlot(model,hist = False, qqplot = True)\n",
        "residuals_vis.fit(xtrain,ytrain)\n",
        "residuals_vis.score(xtest,ytest)\n",
        "residuals_vis.show()\n"
      ],
      "metadata": {
        "colab": {
          "base_uri": "https://localhost:8080/",
          "height": 393
        },
        "id": "cpzgua_4zkj1",
        "outputId": "01d3fbf0-3188-4f1f-c807-9956ddf78c71"
      },
      "execution_count": 54,
      "outputs": [
        {
          "output_type": "display_data",
          "data": {
            "text/plain": [
              "<Figure size 576x396 with 2 Axes>"
            ],
            "image/png": "[encoded data removed]"
          },
          "metadata": {}
        },
        {
          "output_type": "execute_result",
          "data": {
            "text/plain": [
              "<Axes: title={'center': 'Residuals for LinearRegression Model'}, xlabel='Predicted Value', ylabel='Residuals'>"
            ]
          },
          "metadata": {},
          "execution_count": 54
        }
      ]
    },
    {
      "cell_type": "code",
      "source": [
        "# find  mean_absolute_error, mean_squared_error ,r2_score\n",
        "from sklearn.metrics import mean_absolute_error,mean_squared_error,r2_score"
      ],
      "metadata": {
        "id": "mEezVUor3Edc"
      },
      "execution_count": 55,
      "outputs": []
    },
    {
      "cell_type": "code",
      "source": [
        "mae = mean_absolute_error(ytest,ypred)\n",
        "mse = mean_squared_error(ytest,ypred)\n",
        "rmse = np.sqrt(mse)\n",
        "r2 = r2_score(ytest,ypred)\n",
        "\n",
        "\n",
        "print(\" mean_absolute_error-\",mae)\n",
        "print(\" mean_squared_error-\",mse)\n",
        "print(\" root mean squared error-\",rmse)\n",
        "print(\" r2_score-\",r2)"
      ],
      "metadata": {
        "colab": {
          "base_uri": "https://localhost:8080/"
        },
        "id": "c54SiX6D3Inp",
        "outputId": "dad2a8d9-e5f9-4ada-ae28-b744da5b02b8"
      },
      "execution_count": 56,
      "outputs": [
        {
          "output_type": "stream",
          "name": "stdout",
          "text": [
            " mean_absolute_error- 2.263494777623792\n",
            " mean_squared_error- 9.538231744276375\n",
            " root mean squared error- 3.088402782066545\n",
            " r2_score- 0.33401651778615815\n"
          ]
        }
      ]
    },
    {
      "cell_type": "markdown",
      "source": [
        "# CLASSIFICATION MODEL"
      ],
      "metadata": {
        "id": "TwZ5ZpsR3xyO"
      }
    },
    {
      "cell_type": "code",
      "source": [
        "# Now for predicting value of type column we will got classification\n",
        "data2 = df.copy()"
      ],
      "metadata": {
        "id": "VhkGWgb03xD9"
      },
      "execution_count": 57,
      "outputs": []
    },
    {
      "cell_type": "code",
      "source": [
        "data2.head()"
      ],
      "metadata": {
        "colab": {
          "base_uri": "https://localhost:8080/",
          "height": 374
        },
        "id": "VpD5lMqQ3PE0",
        "outputId": "e2bd6629-c141-4721-d727-3625b607b0d9"
      },
      "execution_count": 58,
      "outputs": [
        {
          "output_type": "execute_result",
          "data": {
            "text/plain": [
              "                 Category_Name         Experience    Sub_Category_Name  \\\n",
              "0     Technology & Programming          Entry ($)  Website Development   \n",
              "1  Marketing, Branding & Sales       Expert ($$$)        Sales & Calls   \n",
              "2        Writing & Translation          Entry ($)      Content Writing   \n",
              "3                       Design  Intermediate ($$)            3D Design   \n",
              "4     Technology & Programming          Entry ($)  Website Development   \n",
              "\n",
              "  Currency    Budget Location Freelancer_Preferred_From         Type  \\\n",
              "0      GBP  4.472136   remote                       ALL  fixed_price   \n",
              "1      GBP  5.000000   remote                       ALL       hourly   \n",
              "2      USD  5.477226   remote                       ALL  fixed_price   \n",
              "3      GBP  5.477226   remote                       ALL  fixed_price   \n",
              "4      GBP  4.472136   remote                       ALL       hourly   \n",
              "\n",
              "  Client_City  Client_Country Client_Currency  Day_Registraterd  Day_Posted  \n",
              "0   Tadcaster  United Kingdom             GBP                17          30  \n",
              "1   Ardrossan  United Kingdom             GBP                 5          30  \n",
              "2     Kolkata           India             USD                 8          30  \n",
              "3  Gloucester  United Kingdom             GBP                 2          30  \n",
              "4       Leeds  United Kingdom             GBP                11          30  "
            ],
            "text/html": [
              "\n",
              "  <div id=\"df-83c6e6fe-f1e2-4c43-9389-3120aca9f2ec\">\n",
              "    <div class=\"colab-df-container\">\n",
              "      <div>\n",
              "<style scoped>\n",
              "    .dataframe tbody tr th:only-of-type {\n",
              "        vertical-align: middle;\n",
              "    }\n",
              "\n",
              "    .dataframe tbody tr th {\n",
              "        vertical-align: top;\n",
              "    }\n",
              "\n",
              "    .dataframe thead th {\n",
              "        text-align: right;\n",
              "    }\n",
              "</style>\n",
              "<table border=\"1\" class=\"dataframe\">\n",
              "  <thead>\n",
              "    <tr style=\"text-align: right;\">\n",
              "      <th></th>\n",
              "      <th>Category_Name</th>\n",
              "      <th>Experience</th>\n",
              "      <th>Sub_Category_Name</th>\n",
              "      <th>Currency</th>\n",
              "      <th>Budget</th>\n",
              "      <th>Location</th>\n",
              "      <th>Freelancer_Preferred_From</th>\n",
              "      <th>Type</th>\n",
              "      <th>Client_City</th>\n",
              "      <th>Client_Country</th>\n",
              "      <th>Client_Currency</th>\n",
              "      <th>Day_Registraterd</th>\n",
              "      <th>Day_Posted</th>\n",
              "    </tr>\n",
              "  </thead>\n",
              "  <tbody>\n",
              "    <tr>\n",
              "      <th>0</th>\n",
              "      <td>Technology &amp; Programming</td>\n",
              "      <td>Entry ($)</td>\n",
              "      <td>Website Development</td>\n",
              "      <td>GBP</td>\n",
              "      <td>4.472136</td>\n",
              "      <td>remote</td>\n",
              "      <td>ALL</td>\n",
              "      <td>fixed_price</td>\n",
              "      <td>Tadcaster</td>\n",
              "      <td>United Kingdom</td>\n",
              "      <td>GBP</td>\n",
              "      <td>17</td>\n",
              "      <td>30</td>\n",
              "    </tr>\n",
              "    <tr>\n",
              "      <th>1</th>\n",
              "      <td>Marketing, Branding &amp; Sales</td>\n",
              "      <td>Expert ($$$)</td>\n",
              "      <td>Sales &amp; Calls</td>\n",
              "      <td>GBP</td>\n",
              "      <td>5.000000</td>\n",
              "      <td>remote</td>\n",
              "      <td>ALL</td>\n",
              "      <td>hourly</td>\n",
              "      <td>Ardrossan</td>\n",
              "      <td>United Kingdom</td>\n",
              "      <td>GBP</td>\n",
              "      <td>5</td>\n",
              "      <td>30</td>\n",
              "    </tr>\n",
              "    <tr>\n",
              "      <th>2</th>\n",
              "      <td>Writing &amp; Translation</td>\n",
              "      <td>Entry ($)</td>\n",
              "      <td>Content Writing</td>\n",
              "      <td>USD</td>\n",
              "      <td>5.477226</td>\n",
              "      <td>remote</td>\n",
              "      <td>ALL</td>\n",
              "      <td>fixed_price</td>\n",
              "      <td>Kolkata</td>\n",
              "      <td>India</td>\n",
              "      <td>USD</td>\n",
              "      <td>8</td>\n",
              "      <td>30</td>\n",
              "    </tr>\n",
              "    <tr>\n",
              "      <th>3</th>\n",
              "      <td>Design</td>\n",
              "      <td>Intermediate ($$)</td>\n",
              "      <td>3D Design</td>\n",
              "      <td>GBP</td>\n",
              "      <td>5.477226</td>\n",
              "      <td>remote</td>\n",
              "      <td>ALL</td>\n",
              "      <td>fixed_price</td>\n",
              "      <td>Gloucester</td>\n",
              "      <td>United Kingdom</td>\n",
              "      <td>GBP</td>\n",
              "      <td>2</td>\n",
              "      <td>30</td>\n",
              "    </tr>\n",
              "    <tr>\n",
              "      <th>4</th>\n",
              "      <td>Technology &amp; Programming</td>\n",
              "      <td>Entry ($)</td>\n",
              "      <td>Website Development</td>\n",
              "      <td>GBP</td>\n",
              "      <td>4.472136</td>\n",
              "      <td>remote</td>\n",
              "      <td>ALL</td>\n",
              "      <td>hourly</td>\n",
              "      <td>Leeds</td>\n",
              "      <td>United Kingdom</td>\n",
              "      <td>GBP</td>\n",
              "      <td>11</td>\n",
              "      <td>30</td>\n",
              "    </tr>\n",
              "  </tbody>\n",
              "</table>\n",
              "</div>\n",
              "      <button class=\"colab-df-convert\" onclick=\"convertToInteractive('df-83c6e6fe-f1e2-4c43-9389-3120aca9f2ec')\"\n",
              "              title=\"Convert this dataframe to an interactive table.\"\n",
              "              style=\"display:none;\">\n",
              "        \n",
              "  <svg xmlns=\"http://www.w3.org/2000/svg\" height=\"24px\"viewBox=\"0 0 24 24\"\n",
              "       width=\"24px\">\n",
              "    <path d=\"M0 0h24v24H0V0z\" fill=\"none\"/>\n",
              "    <path d=\"M18.56 5.44l.94 2.06.94-2.06 2.06-.94-2.06-.94-.94-2.06-.94 2.06-2.06.94zm-11 1L8.5 8.5l.94-2.06 2.06-.94-2.06-.94L8.5 2.5l-.94 2.06-2.06.94zm10 10l.94 2.06.94-2.06 2.06-.94-2.06-.94-.94-2.06-.94 2.06-2.06.94z\"/><path d=\"M17.41 7.96l-1.37-1.37c-.4-.4-.92-.59-1.43-.59-.52 0-1.04.2-1.43.59L10.3 9.45l-7.72 7.72c-.78.78-.78 2.05 0 2.83L4 21.41c.39.39.9.59 1.41.59.51 0 1.02-.2 1.41-.59l7.78-7.78 2.81-2.81c.8-.78.8-2.07 0-2.86zM5.41 20L4 18.59l7.72-7.72 1.47 1.35L5.41 20z\"/>\n",
              "  </svg>\n",
              "      </button>\n",
              "      \n",
              "  <style>\n",
              "    .colab-df-container {\n",
              "      display:flex;\n",
              "      flex-wrap:wrap;\n",
              "      gap: 12px;\n",
              "    }\n",
              "\n",
              "    .colab-df-convert {\n",
              "      background-color: #E8F0FE;\n",
              "      border: none;\n",
              "      border-radius: 50%;\n",
              "      cursor: pointer;\n",
              "      display: none;\n",
              "      fill: #1967D2;\n",
              "      height: 32px;\n",
              "      padding: 0 0 0 0;\n",
              "      width: 32px;\n",
              "    }\n",
              "\n",
              "    .colab-df-convert:hover {\n",
              "      background-color: #E2EBFA;\n",
              "      box-shadow: 0px 1px 2px rgba(60, 64, 67, 0.3), 0px 1px 3px 1px rgba(60, 64, 67, 0.15);\n",
              "      fill: #174EA6;\n",
              "    }\n",
              "\n",
              "    [theme=dark] .colab-df-convert {\n",
              "      background-color: #3B4455;\n",
              "      fill: #D2E3FC;\n",
              "    }\n",
              "\n",
              "    [theme=dark] .colab-df-convert:hover {\n",
              "      background-color: #434B5C;\n",
              "      box-shadow: 0px 1px 3px 1px rgba(0, 0, 0, 0.15);\n",
              "      filter: drop-shadow(0px 1px 2px rgba(0, 0, 0, 0.3));\n",
              "      fill: #FFFFFF;\n",
              "    }\n",
              "  </style>\n",
              "\n",
              "      <script>\n",
              "        const buttonEl =\n",
              "          document.querySelector('#df-83c6e6fe-f1e2-4c43-9389-3120aca9f2ec button.colab-df-convert');\n",
              "        buttonEl.style.display =\n",
              "          google.colab.kernel.accessAllowed ? 'block' : 'none';\n",
              "\n",
              "        async function convertToInteractive(key) {\n",
              "          const element = document.querySelector('#df-83c6e6fe-f1e2-4c43-9389-3120aca9f2ec');\n",
              "          const dataTable =\n",
              "            await google.colab.kernel.invokeFunction('convertToInteractive',\n",
              "                                                     [key], {});\n",
              "          if (!dataTable) return;\n",
              "\n",
              "          const docLinkHtml = 'Like what you see? Visit the ' +\n",
              "            '<a target=\"_blank\" href=https://colab.research.google.com/notebooks/data_table.ipynb>data table notebook</a>'\n",
              "            + ' to learn more about interactive tables.';\n",
              "          element.innerHTML = '';\n",
              "          dataTable['output_type'] = 'display_data';\n",
              "          await google.colab.output.renderOutput(dataTable, element);\n",
              "          const docLink = document.createElement('div');\n",
              "          docLink.innerHTML = docLinkHtml;\n",
              "          element.appendChild(docLink);\n",
              "        }\n",
              "      </script>\n",
              "    </div>\n",
              "  </div>\n",
              "  "
            ]
          },
          "metadata": {},
          "execution_count": 58
        }
      ]
    },
    {
      "cell_type": "code",
      "source": [
        "tp = data2[\"Type\"].copy()\n",
        "data2 = data2.drop(df[[\"Type\",\"Day_Posted\",\"Day_Registraterd\"]], axis = 1)"
      ],
      "metadata": {
        "id": "IJc1lqKK4S0w"
      },
      "execution_count": 59,
      "outputs": []
    },
    {
      "cell_type": "code",
      "source": [
        "from sklearn.preprocessing import LabelEncoder\n",
        "encoder = LabelEncoder()\n",
        "tp_encoded = encoder.fit_transform(tp)\n",
        "cat_data = pd.get_dummies(data2)\n",
        "cat_data.head()"
      ],
      "metadata": {
        "colab": {
          "base_uri": "https://localhost:8080/",
          "height": 317
        },
        "id": "RqW0ALiH_NCY",
        "outputId": "54d418a2-fb86-4f49-b592-7fa676577b8e"
      },
      "execution_count": 60,
      "outputs": [
        {
          "output_type": "execute_result",
          "data": {
            "text/plain": [
              "     Budget  Category_Name_Business  Category_Name_Design  \\\n",
              "0  4.472136                       0                     0   \n",
              "1  5.000000                       0                     0   \n",
              "2  5.477226                       0                     0   \n",
              "3  5.477226                       0                     1   \n",
              "4  4.472136                       0                     0   \n",
              "\n",
              "   Category_Name_Digital Marketing  Category_Name_Marketing, Branding & Sales  \\\n",
              "0                                0                                          0   \n",
              "1                                0                                          1   \n",
              "2                                0                                          0   \n",
              "3                                0                                          0   \n",
              "4                                0                                          0   \n",
              "\n",
              "   Category_Name_Music & Audio  Category_Name_Social Media  \\\n",
              "0                            0                           0   \n",
              "1                            0                           0   \n",
              "2                            0                           0   \n",
              "3                            0                           0   \n",
              "4                            0                           0   \n",
              "\n",
              "   Category_Name_Technology & Programming  Category_Name_Video, Photo & Image  \\\n",
              "0                                       1                                   0   \n",
              "1                                       0                                   0   \n",
              "2                                       0                                   0   \n",
              "3                                       0                                   0   \n",
              "4                                       1                                   0   \n",
              "\n",
              "   Category_Name_Writing & Translation  ...  Client_Country_Turkey  \\\n",
              "0                                    0  ...                      0   \n",
              "1                                    0  ...                      0   \n",
              "2                                    1  ...                      0   \n",
              "3                                    0  ...                      0   \n",
              "4                                    0  ...                      0   \n",
              "\n",
              "   Client_Country_Uganda  Client_Country_United Arab Emirates  \\\n",
              "0                      0                                    0   \n",
              "1                      0                                    0   \n",
              "2                      0                                    0   \n",
              "3                      0                                    0   \n",
              "4                      0                                    0   \n",
              "\n",
              "   Client_Country_United Kingdom  Client_Country_United States  \\\n",
              "0                              1                             0   \n",
              "1                              1                             0   \n",
              "2                              0                             0   \n",
              "3                              1                             0   \n",
              "4                              1                             0   \n",
              "\n",
              "   Client_Country_Venezuela  Client_Country_Viet Nam  Client_Currency_EUR  \\\n",
              "0                         0                        0                    0   \n",
              "1                         0                        0                    0   \n",
              "2                         0                        0                    0   \n",
              "3                         0                        0                    0   \n",
              "4                         0                        0                    0   \n",
              "\n",
              "   Client_Currency_GBP  Client_Currency_USD  \n",
              "0                    1                    0  \n",
              "1                    1                    0  \n",
              "2                    0                    1  \n",
              "3                    1                    0  \n",
              "4                    1                    0  \n",
              "\n",
              "[5 rows x 666 columns]"
            ],
            "text/html": [
              "\n",
              "  <div id=\"df-2e1abba5-7d89-44a4-b680-29ace8a54b0b\">\n",
              "    <div class=\"colab-df-container\">\n",
              "      <div>\n",
              "<style scoped>\n",
              "    .dataframe tbody tr th:only-of-type {\n",
              "        vertical-align: middle;\n",
              "    }\n",
              "\n",
              "    .dataframe tbody tr th {\n",
              "        vertical-align: top;\n",
              "    }\n",
              "\n",
              "    .dataframe thead th {\n",
              "        text-align: right;\n",
              "    }\n",
              "</style>\n",
              "<table border=\"1\" class=\"dataframe\">\n",
              "  <thead>\n",
              "    <tr style=\"text-align: right;\">\n",
              "      <th></th>\n",
              "      <th>Budget</th>\n",
              "      <th>Category_Name_Business</th>\n",
              "      <th>Category_Name_Design</th>\n",
              "      <th>Category_Name_Digital Marketing</th>\n",
              "      <th>Category_Name_Marketing, Branding &amp; Sales</th>\n",
              "      <th>Category_Name_Music &amp; Audio</th>\n",
              "      <th>Category_Name_Social Media</th>\n",
              "      <th>Category_Name_Technology &amp; Programming</th>\n",
              "      <th>Category_Name_Video, Photo &amp; Image</th>\n",
              "      <th>Category_Name_Writing &amp; Translation</th>\n",
              "      <th>...</th>\n",
              "      <th>Client_Country_Turkey</th>\n",
              "      <th>Client_Country_Uganda</th>\n",
              "      <th>Client_Country_United Arab Emirates</th>\n",
              "      <th>Client_Country_United Kingdom</th>\n",
              "      <th>Client_Country_United States</th>\n",
              "      <th>Client_Country_Venezuela</th>\n",
              "      <th>Client_Country_Viet Nam</th>\n",
              "      <th>Client_Currency_EUR</th>\n",
              "      <th>Client_Currency_GBP</th>\n",
              "      <th>Client_Currency_USD</th>\n",
              "    </tr>\n",
              "  </thead>\n",
              "  <tbody>\n",
              "    <tr>\n",
              "      <th>0</th>\n",
              "      <td>4.472136</td>\n",
              "      <td>0</td>\n",
              "      <td>0</td>\n",
              "      <td>0</td>\n",
              "      <td>0</td>\n",
              "      <td>0</td>\n",
              "      <td>0</td>\n",
              "      <td>1</td>\n",
              "      <td>0</td>\n",
              "      <td>0</td>\n",
              "      <td>...</td>\n",
              "      <td>0</td>\n",
              "      <td>0</td>\n",
              "      <td>0</td>\n",
              "      <td>1</td>\n",
              "      <td>0</td>\n",
              "      <td>0</td>\n",
              "      <td>0</td>\n",
              "      <td>0</td>\n",
              "      <td>1</td>\n",
              "      <td>0</td>\n",
              "    </tr>\n",
              "    <tr>\n",
              "      <th>1</th>\n",
              "      <td>5.000000</td>\n",
              "      <td>0</td>\n",
              "      <td>0</td>\n",
              "      <td>0</td>\n",
              "      <td>1</td>\n",
              "      <td>0</td>\n",
              "      <td>0</td>\n",
              "      <td>0</td>\n",
              "      <td>0</td>\n",
              "      <td>0</td>\n",
              "      <td>...</td>\n",
              "      <td>0</td>\n",
              "      <td>0</td>\n",
              "      <td>0</td>\n",
              "      <td>1</td>\n",
              "      <td>0</td>\n",
              "      <td>0</td>\n",
              "      <td>0</td>\n",
              "      <td>0</td>\n",
              "      <td>1</td>\n",
              "      <td>0</td>\n",
              "    </tr>\n",
              "    <tr>\n",
              "      <th>2</th>\n",
              "      <td>5.477226</td>\n",
              "      <td>0</td>\n",
              "      <td>0</td>\n",
              "      <td>0</td>\n",
              "      <td>0</td>\n",
              "      <td>0</td>\n",
              "      <td>0</td>\n",
              "      <td>0</td>\n",
              "      <td>0</td>\n",
              "      <td>1</td>\n",
              "      <td>...</td>\n",
              "      <td>0</td>\n",
              "      <td>0</td>\n",
              "      <td>0</td>\n",
              "      <td>0</td>\n",
              "      <td>0</td>\n",
              "      <td>0</td>\n",
              "      <td>0</td>\n",
              "      <td>0</td>\n",
              "      <td>0</td>\n",
              "      <td>1</td>\n",
              "    </tr>\n",
              "    <tr>\n",
              "      <th>3</th>\n",
              "      <td>5.477226</td>\n",
              "      <td>0</td>\n",
              "      <td>1</td>\n",
              "      <td>0</td>\n",
              "      <td>0</td>\n",
              "      <td>0</td>\n",
              "      <td>0</td>\n",
              "      <td>0</td>\n",
              "      <td>0</td>\n",
              "      <td>0</td>\n",
              "      <td>...</td>\n",
              "      <td>0</td>\n",
              "      <td>0</td>\n",
              "      <td>0</td>\n",
              "      <td>1</td>\n",
              "      <td>0</td>\n",
              "      <td>0</td>\n",
              "      <td>0</td>\n",
              "      <td>0</td>\n",
              "      <td>1</td>\n",
              "      <td>0</td>\n",
              "    </tr>\n",
              "    <tr>\n",
              "      <th>4</th>\n",
              "      <td>4.472136</td>\n",
              "      <td>0</td>\n",
              "      <td>0</td>\n",
              "      <td>0</td>\n",
              "      <td>0</td>\n",
              "      <td>0</td>\n",
              "      <td>0</td>\n",
              "      <td>1</td>\n",
              "      <td>0</td>\n",
              "      <td>0</td>\n",
              "      <td>...</td>\n",
              "      <td>0</td>\n",
              "      <td>0</td>\n",
              "      <td>0</td>\n",
              "      <td>1</td>\n",
              "      <td>0</td>\n",
              "      <td>0</td>\n",
              "      <td>0</td>\n",
              "      <td>0</td>\n",
              "      <td>1</td>\n",
              "      <td>0</td>\n",
              "    </tr>\n",
              "  </tbody>\n",
              "</table>\n",
              "<p>5 rows × 666 columns</p>\n",
              "</div>\n",
              "      <button class=\"colab-df-convert\" onclick=\"convertToInteractive('df-2e1abba5-7d89-44a4-b680-29ace8a54b0b')\"\n",
              "              title=\"Convert this dataframe to an interactive table.\"\n",
              "              style=\"display:none;\">\n",
              "        \n",
              "  <svg xmlns=\"http://www.w3.org/2000/svg\" height=\"24px\"viewBox=\"0 0 24 24\"\n",
              "       width=\"24px\">\n",
              "    <path d=\"M0 0h24v24H0V0z\" fill=\"none\"/>\n",
              "    <path d=\"M18.56 5.44l.94 2.06.94-2.06 2.06-.94-2.06-.94-.94-2.06-.94 2.06-2.06.94zm-11 1L8.5 8.5l.94-2.06 2.06-.94-2.06-.94L8.5 2.5l-.94 2.06-2.06.94zm10 10l.94 2.06.94-2.06 2.06-.94-2.06-.94-.94-2.06-.94 2.06-2.06.94z\"/><path d=\"M17.41 7.96l-1.37-1.37c-.4-.4-.92-.59-1.43-.59-.52 0-1.04.2-1.43.59L10.3 9.45l-7.72 7.72c-.78.78-.78 2.05 0 2.83L4 21.41c.39.39.9.59 1.41.59.51 0 1.02-.2 1.41-.59l7.78-7.78 2.81-2.81c.8-.78.8-2.07 0-2.86zM5.41 20L4 18.59l7.72-7.72 1.47 1.35L5.41 20z\"/>\n",
              "  </svg>\n",
              "      </button>\n",
              "      \n",
              "  <style>\n",
              "    .colab-df-container {\n",
              "      display:flex;\n",
              "      flex-wrap:wrap;\n",
              "      gap: 12px;\n",
              "    }\n",
              "\n",
              "    .colab-df-convert {\n",
              "      background-color: #E8F0FE;\n",
              "      border: none;\n",
              "      border-radius: 50%;\n",
              "      cursor: pointer;\n",
              "      display: none;\n",
              "      fill: #1967D2;\n",
              "      height: 32px;\n",
              "      padding: 0 0 0 0;\n",
              "      width: 32px;\n",
              "    }\n",
              "\n",
              "    .colab-df-convert:hover {\n",
              "      background-color: #E2EBFA;\n",
              "      box-shadow: 0px 1px 2px rgba(60, 64, 67, 0.3), 0px 1px 3px 1px rgba(60, 64, 67, 0.15);\n",
              "      fill: #174EA6;\n",
              "    }\n",
              "\n",
              "    [theme=dark] .colab-df-convert {\n",
              "      background-color: #3B4455;\n",
              "      fill: #D2E3FC;\n",
              "    }\n",
              "\n",
              "    [theme=dark] .colab-df-convert:hover {\n",
              "      background-color: #434B5C;\n",
              "      box-shadow: 0px 1px 3px 1px rgba(0, 0, 0, 0.15);\n",
              "      filter: drop-shadow(0px 1px 2px rgba(0, 0, 0, 0.3));\n",
              "      fill: #FFFFFF;\n",
              "    }\n",
              "  </style>\n",
              "\n",
              "      <script>\n",
              "        const buttonEl =\n",
              "          document.querySelector('#df-2e1abba5-7d89-44a4-b680-29ace8a54b0b button.colab-df-convert');\n",
              "        buttonEl.style.display =\n",
              "          google.colab.kernel.accessAllowed ? 'block' : 'none';\n",
              "\n",
              "        async function convertToInteractive(key) {\n",
              "          const element = document.querySelector('#df-2e1abba5-7d89-44a4-b680-29ace8a54b0b');\n",
              "          const dataTable =\n",
              "            await google.colab.kernel.invokeFunction('convertToInteractive',\n",
              "                                                     [key], {});\n",
              "          if (!dataTable) return;\n",
              "\n",
              "          const docLinkHtml = 'Like what you see? Visit the ' +\n",
              "            '<a target=\"_blank\" href=https://colab.research.google.com/notebooks/data_table.ipynb>data table notebook</a>'\n",
              "            + ' to learn more about interactive tables.';\n",
              "          element.innerHTML = '';\n",
              "          dataTable['output_type'] = 'display_data';\n",
              "          await google.colab.output.renderOutput(dataTable, element);\n",
              "          const docLink = document.createElement('div');\n",
              "          docLink.innerHTML = docLinkHtml;\n",
              "          element.appendChild(docLink);\n",
              "        }\n",
              "      </script>\n",
              "    </div>\n",
              "  </div>\n",
              "  "
            ]
          },
          "metadata": {},
          "execution_count": 60
        }
      ]
    },
    {
      "cell_type": "code",
      "source": [
        "x = cat_data"
      ],
      "metadata": {
        "id": "h0IxcqMk_Mmt"
      },
      "execution_count": 61,
      "outputs": []
    },
    {
      "cell_type": "code",
      "source": [
        "y = tp_encoded\n",
        "y[:5]"
      ],
      "metadata": {
        "colab": {
          "base_uri": "https://localhost:8080/"
        },
        "id": "6xLDlRUt_83C",
        "outputId": "97528623-52cd-4936-906f-26ffcfb63766"
      },
      "execution_count": 62,
      "outputs": [
        {
          "output_type": "execute_result",
          "data": {
            "text/plain": [
              "array([0, 1, 0, 0, 1])"
            ]
          },
          "metadata": {},
          "execution_count": 62
        }
      ]
    },
    {
      "cell_type": "code",
      "source": [
        "# spliting of data into training and testing \n",
        "from sklearn.model_selection import train_test_split\n",
        "xtrain,xtest,ytrain,ytest=train_test_split(x,y,test_size=0.2,random_state=1)"
      ],
      "metadata": {
        "id": "0Oc9J4CE_8fv"
      },
      "execution_count": 63,
      "outputs": []
    },
    {
      "cell_type": "code",
      "source": [
        "from sklearn.neighbors import KNeighborsClassifier"
      ],
      "metadata": {
        "id": "-xOQuREcB5zr"
      },
      "execution_count": 64,
      "outputs": []
    },
    {
      "cell_type": "code",
      "source": [
        "trainac=[]\n",
        "testac=[]\n",
        "\n",
        "for i in range(1,31):\n",
        "    knn=KNeighborsClassifier(n_neighbors=i)\n",
        "    knn.fit(xtrain,ytrain)\n",
        "    train=knn.score(xtrain,ytrain)\n",
        "    test=knn.score(xtest,ytest)\n",
        "    trainac.append(train)\n",
        "    testac.append(test)"
      ],
      "metadata": {
        "id": "qH8ia2vPEDHD"
      },
      "execution_count": 65,
      "outputs": []
    },
    {
      "cell_type": "code",
      "source": [
        "plt.plot(range(1,31),trainac,color=\"red\")\n",
        "plt.plot(range(1,31),testac,color=\"green\")\n",
        "plt.grid()\n",
        "plt.show()"
      ],
      "metadata": {
        "colab": {
          "base_uri": "https://localhost:8080/",
          "height": 347
        },
        "id": "kftrMtNoEDDo",
        "outputId": "fae114ae-4812-4def-9802-baf95f7eee69"
      },
      "execution_count": 66,
      "outputs": [
        {
          "output_type": "display_data",
          "data": {
            "text/plain": [
              "<Figure size 576x396 with 1 Axes>"
            ],
            "image/png": "[encoded data removed]"
          },
          "metadata": {}
        }
      ]
    },
    {
      "cell_type": "code",
      "source": [
        "knn=KNeighborsClassifier(n_neighbors=11)\n",
        "knn.fit(xtrain,ytrain)\n",
        "ypred=knn.predict(xtest)"
      ],
      "metadata": {
        "id": "42DV_5qkE_r8"
      },
      "execution_count": 67,
      "outputs": []
    },
    {
      "cell_type": "code",
      "source": [
        "#find accuracy_score,confusion_matrix,classification_report\n",
        "from sklearn.metrics import accuracy_score,confusion_matrix,classification_report\n",
        "ac=accuracy_score(ytest,ypred)\n",
        "cm=confusion_matrix(ytest,ypred)\n",
        "cr=classification_report(ytest,ypred)\n",
        "print(ac)\n",
        "print(cm)\n",
        "print(cr)"
      ],
      "metadata": {
        "colab": {
          "base_uri": "https://localhost:8080/"
        },
        "id": "fBtSeaS-E7Me",
        "outputId": "ed639b83-23ff-4d23-ae29-fbbf8e783820"
      },
      "execution_count": 68,
      "outputs": [
        {
          "output_type": "stream",
          "name": "stdout",
          "text": [
            "0.914396887159533\n",
            "[[212   2]\n",
            " [ 20  23]]\n",
            "              precision    recall  f1-score   support\n",
            "\n",
            "           0       0.91      0.99      0.95       214\n",
            "           1       0.92      0.53      0.68        43\n",
            "\n",
            "    accuracy                           0.91       257\n",
            "   macro avg       0.92      0.76      0.81       257\n",
            "weighted avg       0.91      0.91      0.90       257\n",
            "\n"
          ]
        }
      ]
    },
    {
      "cell_type": "code",
      "source": [
        "train=knn.score(xtrain,ytrain)\n",
        "test=knn.score(xtest,ytest)\n",
        "print(train,test)"
      ],
      "metadata": {
        "colab": {
          "base_uri": "https://localhost:8080/"
        },
        "id": "jVY1me-EDAAH",
        "outputId": "375b1ea9-d8c5-441a-ccc2-897998cee0c5"
      },
      "execution_count": 69,
      "outputs": [
        {
          "output_type": "stream",
          "name": "stdout",
          "text": [
            "0.9172346640701071 0.914396887159533\n"
          ]
        }
      ]
    },
    {
      "cell_type": "markdown",
      "source": [
        " As accuracy score our model is 92% accurate it means it is perform well"
      ],
      "metadata": {
        "id": "9b-ILshIE07X"
      }
    },
    {
      "cell_type": "markdown",
      "source": [
        "# Decision Tree"
      ],
      "metadata": {
        "id": "QQbMXKcKMkYl"
      }
    },
    {
      "cell_type": "code",
      "source": [
        "# import libraries \n",
        "from sklearn.tree import DecisionTreeClassifier\n",
        "from sklearn.metrics import accuracy_score,classification_report"
      ],
      "metadata": {
        "id": "BI2bFXqKGfON"
      },
      "execution_count": 70,
      "outputs": []
    },
    {
      "cell_type": "code",
      "source": [
        "# create fun for return model\n",
        "def mymodel(model):\n",
        "  model.fit(xtrain,ytrain)\n",
        "  ypred=model.predict(xtest)\n",
        "  print(classification_report(ytest,ypred))\n",
        "  return model"
      ],
      "metadata": {
        "id": "ObrtXmomGvwz"
      },
      "execution_count": 71,
      "outputs": []
    },
    {
      "cell_type": "code",
      "source": [
        "dt=DecisionTreeClassifier()"
      ],
      "metadata": {
        "id": "eAAUTlnJGvtv"
      },
      "execution_count": 72,
      "outputs": []
    },
    {
      "cell_type": "code",
      "source": [
        "print(mymodel(dt))"
      ],
      "metadata": {
        "colab": {
          "base_uri": "https://localhost:8080/"
        },
        "id": "TUaDT_xVGvrI",
        "outputId": "b9c2abfe-9ae0-462c-a033-59296244d128"
      },
      "execution_count": 73,
      "outputs": [
        {
          "output_type": "stream",
          "name": "stdout",
          "text": [
            "              precision    recall  f1-score   support\n",
            "\n",
            "           0       0.95      0.97      0.96       214\n",
            "           1       0.82      0.72      0.77        43\n",
            "\n",
            "    accuracy                           0.93       257\n",
            "   macro avg       0.88      0.84      0.86       257\n",
            "weighted avg       0.92      0.93      0.92       257\n",
            "\n",
            "DecisionTreeClassifier()\n"
          ]
        }
      ]
    },
    {
      "cell_type": "code",
      "source": [
        "dt.score(xtrain,ytrain)"
      ],
      "metadata": {
        "colab": {
          "base_uri": "https://localhost:8080/"
        },
        "id": "t7Z8G-0GGvog",
        "outputId": "2d7b6f58-0ed5-4536-eb07-c522135d9669"
      },
      "execution_count": 74,
      "outputs": [
        {
          "output_type": "execute_result",
          "data": {
            "text/plain": [
              "0.9990262901655307"
            ]
          },
          "metadata": {},
          "execution_count": 74
        }
      ]
    },
    {
      "cell_type": "code",
      "source": [
        "dt.score(xtest,ytest)"
      ],
      "metadata": {
        "colab": {
          "base_uri": "https://localhost:8080/"
        },
        "id": "8f5Jn9RXG_KK",
        "outputId": "69743eb8-dec4-48ee-ce82-369984c5cd27"
      },
      "execution_count": 75,
      "outputs": [
        {
          "output_type": "execute_result",
          "data": {
            "text/plain": [
              "0.9260700389105059"
            ]
          },
          "metadata": {},
          "execution_count": 75
        }
      ]
    },
    {
      "cell_type": "code",
      "source": [
        "dt1=DecisionTreeClassifier(max_depth=6)\n",
        "print(mymodel(dt1))"
      ],
      "metadata": {
        "colab": {
          "base_uri": "https://localhost:8080/"
        },
        "id": "wYTRMlJrKHbF",
        "outputId": "c9386a6b-2f1c-4e29-a941-94c9cb01c611"
      },
      "execution_count": 76,
      "outputs": [
        {
          "output_type": "stream",
          "name": "stdout",
          "text": [
            "              precision    recall  f1-score   support\n",
            "\n",
            "           0       0.91      0.99      0.95       214\n",
            "           1       0.92      0.53      0.68        43\n",
            "\n",
            "    accuracy                           0.91       257\n",
            "   macro avg       0.92      0.76      0.81       257\n",
            "weighted avg       0.91      0.91      0.90       257\n",
            "\n",
            "DecisionTreeClassifier(max_depth=6)\n"
          ]
        }
      ]
    },
    {
      "cell_type": "code",
      "source": [
        "dt2=DecisionTreeClassifier(min_samples_leaf=20)\n",
        "print(mymodel(dt2))\n"
      ],
      "metadata": {
        "colab": {
          "base_uri": "https://localhost:8080/"
        },
        "id": "owqa6WfYKQqG",
        "outputId": "26941795-a2d6-42d4-ff79-4458a80cb17a"
      },
      "execution_count": 77,
      "outputs": [
        {
          "output_type": "stream",
          "name": "stdout",
          "text": [
            "              precision    recall  f1-score   support\n",
            "\n",
            "           0       0.92      0.98      0.95       214\n",
            "           1       0.86      0.56      0.68        43\n",
            "\n",
            "    accuracy                           0.91       257\n",
            "   macro avg       0.89      0.77      0.81       257\n",
            "weighted avg       0.91      0.91      0.90       257\n",
            "\n",
            "DecisionTreeClassifier(min_samples_leaf=20)\n"
          ]
        }
      ]
    },
    {
      "cell_type": "code",
      "source": [
        "# plot decision tree fig\n",
        "from sklearn import tree\n",
        "fig,ax=plt.subplots(figsize=(15,10))\n",
        "chart=tree.plot_tree(dt1,\n",
        "                     feature_names=x.columns,\n",
        "                     fontsize=10,\n",
        "                     filled=True,\n",
        "                     rounded=True)\n",
        "for node in chart:\n",
        "  arrow=node.arrow_patch\n",
        "  if(arrow is not None):\n",
        "    arrow.set_edgecolor(\"red\")\n",
        "    arrow.set_linewidth(1)"
      ],
      "metadata": {
        "colab": {
          "base_uri": "https://localhost:8080/",
          "height": 575
        },
        "id": "PARUyLchHIQO",
        "outputId": "315e25b1-1264-401e-8214-641c18b5d687"
      },
      "execution_count": 78,
      "outputs": [
        {
          "output_type": "display_data",
          "data": {
            "text/plain": [
              "<Figure size 1080x720 with 1 Axes>"
            ],
            "image/png": "[encoded data removed]"
          },
          "metadata": {}
        }
      ]
    },
    {
      "cell_type": "markdown",
      "source": [
        "# End Project___"
      ],
      "metadata": {
        "id": "cTMivqfDUwBP"
      }
    }
  ],
  "metadata": {
    "colab": {
      "provenance": []
    },
    "kernelspec": {
      "display_name": "Python 3",
      "name": "python3"
    },
    "language_info": {
      "name": "python"
    }
  },
  "nbformat": 4,
  "nbformat_minor": 0
}